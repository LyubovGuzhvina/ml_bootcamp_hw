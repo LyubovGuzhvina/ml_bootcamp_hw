{
  "nbformat": 4,
  "nbformat_minor": 0,
  "metadata": {
    "colab": {
      "provenance": [],
      "toc_visible": true,
      "include_colab_link": true
    },
    "kernelspec": {
      "name": "python3",
      "display_name": "Python 3"
    },
    "language_info": {
      "name": "python"
    }
  },
  "cells": [
    {
      "cell_type": "markdown",
      "metadata": {
        "id": "view-in-github",
        "colab_type": "text"
      },
      "source": [
        "<a href=\"https://colab.research.google.com/github/alla-g/ml_bootcamp_hw/blob/main/Flight_satisfaction.ipynb\" target=\"_parent\"><img src=\"https://colab.research.google.com/assets/colab-badge.svg\" alt=\"Open In Colab\"/></a>"
      ]
    },
    {
      "cell_type": "markdown",
      "source": [
        "# Удовлетворённость полётом"
      ],
      "metadata": {
        "id": "d04VdHY7jUnn"
      }
    },
    {
      "cell_type": "markdown",
      "source": [
        "Датасет содержит информацию о клиентах некоторой авиакомпании"
      ],
      "metadata": {
        "id": "DxMCeYxukBKi"
      }
    },
    {
      "cell_type": "markdown",
      "source": [
        "## Импорт библиотек, константы"
      ],
      "metadata": {
        "id": "lhA1Am55jZ3D"
      }
    },
    {
      "cell_type": "code",
      "execution_count": 91,
      "metadata": {
        "id": "HV1hv_cBi-zx"
      },
      "outputs": [],
      "source": [
        "import numpy as np\n",
        "import pandas as pd\n",
        "import seaborn as sns\n",
        "import matplotlib.pyplot as plt\n",
        "\n",
        "from sklearn.preprocessing import MinMaxScaler\n",
        "from sklearn.linear_model import LogisticRegression\n",
        "from sklearn.model_selection import train_test_split\n",
        "from sklearn.metrics import accuracy_score, precision_score, recall_score, confusion_matrix"
      ]
    },
    {
      "cell_type": "code",
      "source": [
        "RANDOM_STATE = 42"
      ],
      "metadata": {
        "id": "IfM0ZXowjluS"
      },
      "execution_count": 92,
      "outputs": []
    },
    {
      "cell_type": "code",
      "source": [
        "DATASET_PATH = \"https://raw.githubusercontent.com/evgpat/edu_stepik_from_idea_to_mvp/main/datasets/clients.csv\""
      ],
      "metadata": {
        "id": "otQxpwuxjoBA"
      },
      "execution_count": 93,
      "outputs": []
    },
    {
      "cell_type": "markdown",
      "source": [
        "## Загрузка и обзор данных"
      ],
      "metadata": {
        "id": "Fp7HfNokjzdr"
      }
    },
    {
      "cell_type": "markdown",
      "source": [
        "### Загрузка"
      ],
      "metadata": {
        "id": "voBVih6bkqoP"
      }
    },
    {
      "cell_type": "code",
      "source": [
        "# загрузка данных\n",
        "df = pd.read_csv(DATASET_PATH)\n",
        "df.head(5)"
      ],
      "metadata": {
        "id": "akRLgc55jyGl",
        "colab": {
          "base_uri": "https://localhost:8080/",
          "height": 438
        },
        "outputId": "9c33e9ee-2987-424b-d40a-981c12f7e7fb"
      },
      "execution_count": 94,
      "outputs": [
        {
          "output_type": "execute_result",
          "data": {
            "text/plain": [
              "   id  Gender   Age      Customer Type   Type of Travel     Class  \\\n",
              "0   1    Male  48.0  disloyal Customer  Business travel  Business   \n",
              "1   2  Female  35.0     Loyal Customer  Business travel  Business   \n",
              "2   3    Male  41.0     Loyal Customer  Business travel  Business   \n",
              "3   4    Male  50.0     Loyal Customer  Business travel  Business   \n",
              "4   5  Female  49.0     Loyal Customer  Business travel  Business   \n",
              "\n",
              "   Flight Distance  Departure Delay in Minutes  Arrival Delay in Minutes  \\\n",
              "0            821.0                         2.0                       5.0   \n",
              "1            821.0                        26.0                      39.0   \n",
              "2            853.0                         0.0                       0.0   \n",
              "3           1905.0                         0.0                       0.0   \n",
              "4           3470.0                         0.0                       1.0   \n",
              "\n",
              "   Inflight wifi service  ...  Online boarding  Seat comfort  \\\n",
              "0                    3.0  ...              3.0           5.0   \n",
              "1                    2.0  ...              5.0           4.0   \n",
              "2                    4.0  ...              5.0           5.0   \n",
              "3                    2.0  ...              4.0           5.0   \n",
              "4                    3.0  ...              5.0           4.0   \n",
              "\n",
              "   Inflight entertainment  On-board service  Leg room service  \\\n",
              "0                     5.0               3.0               2.0   \n",
              "1                     5.0               5.0               5.0   \n",
              "2                     3.0               3.0               3.0   \n",
              "3                     5.0               5.0               5.0   \n",
              "4                     3.0               3.0               4.0   \n",
              "\n",
              "   Baggage handling  Checkin service  Inflight service  Cleanliness  \\\n",
              "0               5.0              4.0               5.0          5.0   \n",
              "1               5.0              3.0               5.0          5.0   \n",
              "2               3.0              4.0               3.0          5.0   \n",
              "3               5.0              3.0               5.0          4.0   \n",
              "4               3.0              3.0               3.0          5.0   \n",
              "\n",
              "              satisfaction  \n",
              "0  neutral or dissatisfied  \n",
              "1                satisfied  \n",
              "2                satisfied  \n",
              "3                satisfied  \n",
              "4                satisfied  \n",
              "\n",
              "[5 rows x 24 columns]"
            ],
            "text/html": [
              "\n",
              "  <div id=\"df-5fdf0815-05ec-4f14-bc71-34bff41f98ad\">\n",
              "    <div class=\"colab-df-container\">\n",
              "      <div>\n",
              "<style scoped>\n",
              "    .dataframe tbody tr th:only-of-type {\n",
              "        vertical-align: middle;\n",
              "    }\n",
              "\n",
              "    .dataframe tbody tr th {\n",
              "        vertical-align: top;\n",
              "    }\n",
              "\n",
              "    .dataframe thead th {\n",
              "        text-align: right;\n",
              "    }\n",
              "</style>\n",
              "<table border=\"1\" class=\"dataframe\">\n",
              "  <thead>\n",
              "    <tr style=\"text-align: right;\">\n",
              "      <th></th>\n",
              "      <th>id</th>\n",
              "      <th>Gender</th>\n",
              "      <th>Age</th>\n",
              "      <th>Customer Type</th>\n",
              "      <th>Type of Travel</th>\n",
              "      <th>Class</th>\n",
              "      <th>Flight Distance</th>\n",
              "      <th>Departure Delay in Minutes</th>\n",
              "      <th>Arrival Delay in Minutes</th>\n",
              "      <th>Inflight wifi service</th>\n",
              "      <th>...</th>\n",
              "      <th>Online boarding</th>\n",
              "      <th>Seat comfort</th>\n",
              "      <th>Inflight entertainment</th>\n",
              "      <th>On-board service</th>\n",
              "      <th>Leg room service</th>\n",
              "      <th>Baggage handling</th>\n",
              "      <th>Checkin service</th>\n",
              "      <th>Inflight service</th>\n",
              "      <th>Cleanliness</th>\n",
              "      <th>satisfaction</th>\n",
              "    </tr>\n",
              "  </thead>\n",
              "  <tbody>\n",
              "    <tr>\n",
              "      <th>0</th>\n",
              "      <td>1</td>\n",
              "      <td>Male</td>\n",
              "      <td>48.0</td>\n",
              "      <td>disloyal Customer</td>\n",
              "      <td>Business travel</td>\n",
              "      <td>Business</td>\n",
              "      <td>821.0</td>\n",
              "      <td>2.0</td>\n",
              "      <td>5.0</td>\n",
              "      <td>3.0</td>\n",
              "      <td>...</td>\n",
              "      <td>3.0</td>\n",
              "      <td>5.0</td>\n",
              "      <td>5.0</td>\n",
              "      <td>3.0</td>\n",
              "      <td>2.0</td>\n",
              "      <td>5.0</td>\n",
              "      <td>4.0</td>\n",
              "      <td>5.0</td>\n",
              "      <td>5.0</td>\n",
              "      <td>neutral or dissatisfied</td>\n",
              "    </tr>\n",
              "    <tr>\n",
              "      <th>1</th>\n",
              "      <td>2</td>\n",
              "      <td>Female</td>\n",
              "      <td>35.0</td>\n",
              "      <td>Loyal Customer</td>\n",
              "      <td>Business travel</td>\n",
              "      <td>Business</td>\n",
              "      <td>821.0</td>\n",
              "      <td>26.0</td>\n",
              "      <td>39.0</td>\n",
              "      <td>2.0</td>\n",
              "      <td>...</td>\n",
              "      <td>5.0</td>\n",
              "      <td>4.0</td>\n",
              "      <td>5.0</td>\n",
              "      <td>5.0</td>\n",
              "      <td>5.0</td>\n",
              "      <td>5.0</td>\n",
              "      <td>3.0</td>\n",
              "      <td>5.0</td>\n",
              "      <td>5.0</td>\n",
              "      <td>satisfied</td>\n",
              "    </tr>\n",
              "    <tr>\n",
              "      <th>2</th>\n",
              "      <td>3</td>\n",
              "      <td>Male</td>\n",
              "      <td>41.0</td>\n",
              "      <td>Loyal Customer</td>\n",
              "      <td>Business travel</td>\n",
              "      <td>Business</td>\n",
              "      <td>853.0</td>\n",
              "      <td>0.0</td>\n",
              "      <td>0.0</td>\n",
              "      <td>4.0</td>\n",
              "      <td>...</td>\n",
              "      <td>5.0</td>\n",
              "      <td>5.0</td>\n",
              "      <td>3.0</td>\n",
              "      <td>3.0</td>\n",
              "      <td>3.0</td>\n",
              "      <td>3.0</td>\n",
              "      <td>4.0</td>\n",
              "      <td>3.0</td>\n",
              "      <td>5.0</td>\n",
              "      <td>satisfied</td>\n",
              "    </tr>\n",
              "    <tr>\n",
              "      <th>3</th>\n",
              "      <td>4</td>\n",
              "      <td>Male</td>\n",
              "      <td>50.0</td>\n",
              "      <td>Loyal Customer</td>\n",
              "      <td>Business travel</td>\n",
              "      <td>Business</td>\n",
              "      <td>1905.0</td>\n",
              "      <td>0.0</td>\n",
              "      <td>0.0</td>\n",
              "      <td>2.0</td>\n",
              "      <td>...</td>\n",
              "      <td>4.0</td>\n",
              "      <td>5.0</td>\n",
              "      <td>5.0</td>\n",
              "      <td>5.0</td>\n",
              "      <td>5.0</td>\n",
              "      <td>5.0</td>\n",
              "      <td>3.0</td>\n",
              "      <td>5.0</td>\n",
              "      <td>4.0</td>\n",
              "      <td>satisfied</td>\n",
              "    </tr>\n",
              "    <tr>\n",
              "      <th>4</th>\n",
              "      <td>5</td>\n",
              "      <td>Female</td>\n",
              "      <td>49.0</td>\n",
              "      <td>Loyal Customer</td>\n",
              "      <td>Business travel</td>\n",
              "      <td>Business</td>\n",
              "      <td>3470.0</td>\n",
              "      <td>0.0</td>\n",
              "      <td>1.0</td>\n",
              "      <td>3.0</td>\n",
              "      <td>...</td>\n",
              "      <td>5.0</td>\n",
              "      <td>4.0</td>\n",
              "      <td>3.0</td>\n",
              "      <td>3.0</td>\n",
              "      <td>4.0</td>\n",
              "      <td>3.0</td>\n",
              "      <td>3.0</td>\n",
              "      <td>3.0</td>\n",
              "      <td>5.0</td>\n",
              "      <td>satisfied</td>\n",
              "    </tr>\n",
              "  </tbody>\n",
              "</table>\n",
              "<p>5 rows × 24 columns</p>\n",
              "</div>\n",
              "      <button class=\"colab-df-convert\" onclick=\"convertToInteractive('df-5fdf0815-05ec-4f14-bc71-34bff41f98ad')\"\n",
              "              title=\"Convert this dataframe to an interactive table.\"\n",
              "              style=\"display:none;\">\n",
              "        \n",
              "  <svg xmlns=\"http://www.w3.org/2000/svg\" height=\"24px\"viewBox=\"0 0 24 24\"\n",
              "       width=\"24px\">\n",
              "    <path d=\"M0 0h24v24H0V0z\" fill=\"none\"/>\n",
              "    <path d=\"M18.56 5.44l.94 2.06.94-2.06 2.06-.94-2.06-.94-.94-2.06-.94 2.06-2.06.94zm-11 1L8.5 8.5l.94-2.06 2.06-.94-2.06-.94L8.5 2.5l-.94 2.06-2.06.94zm10 10l.94 2.06.94-2.06 2.06-.94-2.06-.94-.94-2.06-.94 2.06-2.06.94z\"/><path d=\"M17.41 7.96l-1.37-1.37c-.4-.4-.92-.59-1.43-.59-.52 0-1.04.2-1.43.59L10.3 9.45l-7.72 7.72c-.78.78-.78 2.05 0 2.83L4 21.41c.39.39.9.59 1.41.59.51 0 1.02-.2 1.41-.59l7.78-7.78 2.81-2.81c.8-.78.8-2.07 0-2.86zM5.41 20L4 18.59l7.72-7.72 1.47 1.35L5.41 20z\"/>\n",
              "  </svg>\n",
              "      </button>\n",
              "      \n",
              "  <style>\n",
              "    .colab-df-container {\n",
              "      display:flex;\n",
              "      flex-wrap:wrap;\n",
              "      gap: 12px;\n",
              "    }\n",
              "\n",
              "    .colab-df-convert {\n",
              "      background-color: #E8F0FE;\n",
              "      border: none;\n",
              "      border-radius: 50%;\n",
              "      cursor: pointer;\n",
              "      display: none;\n",
              "      fill: #1967D2;\n",
              "      height: 32px;\n",
              "      padding: 0 0 0 0;\n",
              "      width: 32px;\n",
              "    }\n",
              "\n",
              "    .colab-df-convert:hover {\n",
              "      background-color: #E2EBFA;\n",
              "      box-shadow: 0px 1px 2px rgba(60, 64, 67, 0.3), 0px 1px 3px 1px rgba(60, 64, 67, 0.15);\n",
              "      fill: #174EA6;\n",
              "    }\n",
              "\n",
              "    [theme=dark] .colab-df-convert {\n",
              "      background-color: #3B4455;\n",
              "      fill: #D2E3FC;\n",
              "    }\n",
              "\n",
              "    [theme=dark] .colab-df-convert:hover {\n",
              "      background-color: #434B5C;\n",
              "      box-shadow: 0px 1px 3px 1px rgba(0, 0, 0, 0.15);\n",
              "      filter: drop-shadow(0px 1px 2px rgba(0, 0, 0, 0.3));\n",
              "      fill: #FFFFFF;\n",
              "    }\n",
              "  </style>\n",
              "\n",
              "      <script>\n",
              "        const buttonEl =\n",
              "          document.querySelector('#df-5fdf0815-05ec-4f14-bc71-34bff41f98ad button.colab-df-convert');\n",
              "        buttonEl.style.display =\n",
              "          google.colab.kernel.accessAllowed ? 'block' : 'none';\n",
              "\n",
              "        async function convertToInteractive(key) {\n",
              "          const element = document.querySelector('#df-5fdf0815-05ec-4f14-bc71-34bff41f98ad');\n",
              "          const dataTable =\n",
              "            await google.colab.kernel.invokeFunction('convertToInteractive',\n",
              "                                                     [key], {});\n",
              "          if (!dataTable) return;\n",
              "\n",
              "          const docLinkHtml = 'Like what you see? Visit the ' +\n",
              "            '<a target=\"_blank\" href=https://colab.research.google.com/notebooks/data_table.ipynb>data table notebook</a>'\n",
              "            + ' to learn more about interactive tables.';\n",
              "          element.innerHTML = '';\n",
              "          dataTable['output_type'] = 'display_data';\n",
              "          await google.colab.output.renderOutput(dataTable, element);\n",
              "          const docLink = document.createElement('div');\n",
              "          docLink.innerHTML = docLinkHtml;\n",
              "          element.appendChild(docLink);\n",
              "        }\n",
              "      </script>\n",
              "    </div>\n",
              "  </div>\n",
              "  "
            ]
          },
          "metadata": {},
          "execution_count": 94
        }
      ]
    },
    {
      "cell_type": "markdown",
      "source": [
        "### Описание данных"
      ],
      "metadata": {
        "id": "mNHZ_G-tkb1e"
      }
    },
    {
      "cell_type": "markdown",
      "source": [
        "**Целевая переменная**\n",
        "- `satisfaction`: удовлетворенность клиента полетом, бинарная (*satisfied* или *neutral or dissatisfied*)\n",
        "\n",
        "**Признаки**\n",
        "- `Gender` (categorical: _Male_ или _Female_): пол клиента\n",
        "- `Age` (numeric, int): количество полных лет\n",
        "- `Customer Type` (categorical: _Loyal Customer_ или _disloyal Customer_): лоялен ли клиент авиакомпании?\n",
        "- `Type of Travel` (categorical: _Business travel_ или _Personal Travel_): тип поездки\n",
        "- `Class` (categorical: _Business_ или _Eco_, или _Eco Plus_): класс обслуживания в самолете\n",
        "- `Flight Distance` (numeric, int): дальность перелета (в милях)\n",
        "- `Departure Delay in Minutes` (numeric, int): задержка отправления (неотрицательная)\n",
        "- `Arrival Delay in Minutes` (numeric, int): задержка прибытия (неотрицательная)\n",
        "- `Inflight wifi service` (categorical, int): оценка клиентом интернета на борту\n",
        "- `Departure/Arrival time convenient` (categorical, int): оценка клиентом удобство времени прилета и вылета\n",
        "- `Ease of Online booking` (categorical, int): оценка клиентом удобства онлайн-бронирования\n",
        "- `Gate location` (categorical, int): оценка клиентом расположения выхода на посадку в аэропорту\n",
        "- `Food and drink` (categorical, int): оценка клиентом еды и напитков на борту\n",
        "- `Online boarding` (categorical, int): оценка клиентом выбора места в самолете\n",
        "- `Seat comfort` (categorical, int): оценка клиентом удобства сиденья\n",
        "- `Inflight entertainment` (categorical, int): оценка клиентом развлечений на борту\n",
        "- `On-board service` (categorical, int): оценка клиентом обслуживания на борту\n",
        "- `Leg room service` (categorical, int): оценка клиентом места в ногах на борту\n",
        "- `Baggage handling` (categorical, int): оценка клиентом обращения с багажом\n",
        "- `Checkin service` (categorical, int): оценка клиентом регистрации на рейс\n",
        "- `Inflight service` (categorical, int): оценка клиентом обслуживания на борту\n",
        "- `Cleanliness` (categorical, int): оценка клиентом чистоты на борту"
      ],
      "metadata": {
        "id": "3FxkHi2QkEPV"
      }
    },
    {
      "cell_type": "code",
      "source": [
        "# информация о датасете\n",
        "df.shape"
      ],
      "metadata": {
        "colab": {
          "base_uri": "https://localhost:8080/"
        },
        "id": "RsDeQvZXmVpW",
        "outputId": "d37deed8-2b0b-47af-abda-536cdfcf0361"
      },
      "execution_count": 95,
      "outputs": [
        {
          "output_type": "execute_result",
          "data": {
            "text/plain": [
              "(129880, 24)"
            ]
          },
          "metadata": {},
          "execution_count": 95
        }
      ]
    },
    {
      "cell_type": "code",
      "source": [
        "# информация о столбцах\n",
        "df.info()"
      ],
      "metadata": {
        "colab": {
          "base_uri": "https://localhost:8080/"
        },
        "id": "VterO9sXkWTi",
        "outputId": "1b934636-8776-4af2-946c-c997e7571001"
      },
      "execution_count": 96,
      "outputs": [
        {
          "output_type": "stream",
          "name": "stdout",
          "text": [
            "<class 'pandas.core.frame.DataFrame'>\n",
            "RangeIndex: 129880 entries, 0 to 129879\n",
            "Data columns (total 24 columns):\n",
            " #   Column                             Non-Null Count   Dtype  \n",
            "---  ------                             --------------   -----  \n",
            " 0   id                                 129880 non-null  int64  \n",
            " 1   Gender                             129549 non-null  object \n",
            " 2   Age                                129564 non-null  float64\n",
            " 3   Customer Type                      129803 non-null  object \n",
            " 4   Type of Travel                     129779 non-null  object \n",
            " 5   Class                              129764 non-null  object \n",
            " 6   Flight Distance                    129786 non-null  float64\n",
            " 7   Departure Delay in Minutes         129773 non-null  float64\n",
            " 8   Arrival Delay in Minutes           129371 non-null  float64\n",
            " 9   Inflight wifi service              129835 non-null  float64\n",
            " 10  Departure/Arrival time convenient  129831 non-null  float64\n",
            " 11  Ease of Online booking             129837 non-null  float64\n",
            " 12  Gate location                      129842 non-null  float64\n",
            " 13  Food and drink                     129830 non-null  float64\n",
            " 14  Online boarding                    129834 non-null  float64\n",
            " 15  Seat comfort                       129832 non-null  float64\n",
            " 16  Inflight entertainment             129833 non-null  float64\n",
            " 17  On-board service                   129836 non-null  float64\n",
            " 18  Leg room service                   129834 non-null  float64\n",
            " 19  Baggage handling                   129832 non-null  float64\n",
            " 20  Checkin service                    129838 non-null  float64\n",
            " 21  Inflight service                   129817 non-null  float64\n",
            " 22  Cleanliness                        129843 non-null  float64\n",
            " 23  satisfaction                       129880 non-null  object \n",
            "dtypes: float64(18), int64(1), object(5)\n",
            "memory usage: 23.8+ MB\n"
          ]
        }
      ]
    },
    {
      "cell_type": "code",
      "source": [
        "# информация о числовых колонках\n",
        "df.describe()"
      ],
      "metadata": {
        "colab": {
          "base_uri": "https://localhost:8080/",
          "height": 399
        },
        "id": "_GMK-ya04G3G",
        "outputId": "274c8576-65dc-4c05-ded9-7da0051175aa"
      },
      "execution_count": 97,
      "outputs": [
        {
          "output_type": "execute_result",
          "data": {
            "text/plain": [
              "                  id            Age  Flight Distance  \\\n",
              "count  129880.000000  129564.000000    129786.000000   \n",
              "mean    64940.500000      40.113951      1323.385804   \n",
              "std     37493.270818      20.365190      4516.191530   \n",
              "min         1.000000       0.000000         0.000000   \n",
              "25%     32470.750000      27.000000       414.000000   \n",
              "50%     64940.500000      40.000000       846.000000   \n",
              "75%     97410.250000      51.000000      1744.000000   \n",
              "max    129880.000000     621.000000    379620.000000   \n",
              "\n",
              "       Departure Delay in Minutes  Arrival Delay in Minutes  \\\n",
              "count               129773.000000             129371.000000   \n",
              "mean                    15.811301                 16.651406   \n",
              "std                     93.206139                109.167328   \n",
              "min                      0.000000                  0.000000   \n",
              "25%                      0.000000                  0.000000   \n",
              "50%                      0.000000                  0.000000   \n",
              "75%                     12.000000                 13.000000   \n",
              "max                  22227.000000              14006.000000   \n",
              "\n",
              "       Inflight wifi service  Departure/Arrival time convenient  \\\n",
              "count          129835.000000                      129831.000000   \n",
              "mean                2.732183                           3.061857   \n",
              "std                 1.359786                           1.559323   \n",
              "min                 0.000000                           0.000000   \n",
              "25%                 2.000000                           2.000000   \n",
              "50%                 3.000000                           3.000000   \n",
              "75%                 4.000000                           4.000000   \n",
              "max                45.000000                          45.000000   \n",
              "\n",
              "       Ease of Online booking  Gate location  Food and drink  Online boarding  \\\n",
              "count           129837.000000  129842.000000   129830.000000    129834.000000   \n",
              "mean                 2.760523       2.981424        3.208349         3.256674   \n",
              "std                  1.430800       1.312628        1.357649         1.381889   \n",
              "min                  0.000000       0.000000        0.000000         0.000000   \n",
              "25%                  2.000000       2.000000        2.000000         2.000000   \n",
              "50%                  3.000000       3.000000        3.000000         3.000000   \n",
              "75%                  4.000000       4.000000        4.000000         4.000000   \n",
              "max                 45.000000      36.000000       45.000000        40.000000   \n",
              "\n",
              "        Seat comfort  Inflight entertainment  On-board service  \\\n",
              "count  129832.000000           129833.000000     129836.000000   \n",
              "mean        3.445691                3.361395          3.387181   \n",
              "std         1.349732                1.366866          1.335540   \n",
              "min         0.000000                0.000000          0.000000   \n",
              "25%         2.000000                2.000000          2.000000   \n",
              "50%         4.000000                4.000000          4.000000   \n",
              "75%         5.000000                4.000000          4.000000   \n",
              "max        45.000000               45.000000         45.000000   \n",
              "\n",
              "       Leg room service  Baggage handling  Checkin service  Inflight service  \\\n",
              "count     129834.000000     129832.000000    129838.000000      129817.00000   \n",
              "mean           3.356101          3.636107         3.310056           3.64718   \n",
              "std            1.361633          1.221818         1.298626           1.21837   \n",
              "min            0.000000          0.000000         0.000000           0.00000   \n",
              "25%            2.000000          3.000000         3.000000           3.00000   \n",
              "50%            4.000000          4.000000         3.000000           4.00000   \n",
              "75%            4.000000          5.000000         4.000000           5.00000   \n",
              "max           40.000000         40.000000        45.000000          40.00000   \n",
              "\n",
              "         Cleanliness  \n",
              "count  129843.000000  \n",
              "mean        3.289865  \n",
              "std         1.347625  \n",
              "min         0.000000  \n",
              "25%         2.000000  \n",
              "50%         3.000000  \n",
              "75%         4.000000  \n",
              "max        45.000000  "
            ],
            "text/html": [
              "\n",
              "  <div id=\"df-eeeee0e3-82aa-4548-9d78-59d63c70e72d\">\n",
              "    <div class=\"colab-df-container\">\n",
              "      <div>\n",
              "<style scoped>\n",
              "    .dataframe tbody tr th:only-of-type {\n",
              "        vertical-align: middle;\n",
              "    }\n",
              "\n",
              "    .dataframe tbody tr th {\n",
              "        vertical-align: top;\n",
              "    }\n",
              "\n",
              "    .dataframe thead th {\n",
              "        text-align: right;\n",
              "    }\n",
              "</style>\n",
              "<table border=\"1\" class=\"dataframe\">\n",
              "  <thead>\n",
              "    <tr style=\"text-align: right;\">\n",
              "      <th></th>\n",
              "      <th>id</th>\n",
              "      <th>Age</th>\n",
              "      <th>Flight Distance</th>\n",
              "      <th>Departure Delay in Minutes</th>\n",
              "      <th>Arrival Delay in Minutes</th>\n",
              "      <th>Inflight wifi service</th>\n",
              "      <th>Departure/Arrival time convenient</th>\n",
              "      <th>Ease of Online booking</th>\n",
              "      <th>Gate location</th>\n",
              "      <th>Food and drink</th>\n",
              "      <th>Online boarding</th>\n",
              "      <th>Seat comfort</th>\n",
              "      <th>Inflight entertainment</th>\n",
              "      <th>On-board service</th>\n",
              "      <th>Leg room service</th>\n",
              "      <th>Baggage handling</th>\n",
              "      <th>Checkin service</th>\n",
              "      <th>Inflight service</th>\n",
              "      <th>Cleanliness</th>\n",
              "    </tr>\n",
              "  </thead>\n",
              "  <tbody>\n",
              "    <tr>\n",
              "      <th>count</th>\n",
              "      <td>129880.000000</td>\n",
              "      <td>129564.000000</td>\n",
              "      <td>129786.000000</td>\n",
              "      <td>129773.000000</td>\n",
              "      <td>129371.000000</td>\n",
              "      <td>129835.000000</td>\n",
              "      <td>129831.000000</td>\n",
              "      <td>129837.000000</td>\n",
              "      <td>129842.000000</td>\n",
              "      <td>129830.000000</td>\n",
              "      <td>129834.000000</td>\n",
              "      <td>129832.000000</td>\n",
              "      <td>129833.000000</td>\n",
              "      <td>129836.000000</td>\n",
              "      <td>129834.000000</td>\n",
              "      <td>129832.000000</td>\n",
              "      <td>129838.000000</td>\n",
              "      <td>129817.00000</td>\n",
              "      <td>129843.000000</td>\n",
              "    </tr>\n",
              "    <tr>\n",
              "      <th>mean</th>\n",
              "      <td>64940.500000</td>\n",
              "      <td>40.113951</td>\n",
              "      <td>1323.385804</td>\n",
              "      <td>15.811301</td>\n",
              "      <td>16.651406</td>\n",
              "      <td>2.732183</td>\n",
              "      <td>3.061857</td>\n",
              "      <td>2.760523</td>\n",
              "      <td>2.981424</td>\n",
              "      <td>3.208349</td>\n",
              "      <td>3.256674</td>\n",
              "      <td>3.445691</td>\n",
              "      <td>3.361395</td>\n",
              "      <td>3.387181</td>\n",
              "      <td>3.356101</td>\n",
              "      <td>3.636107</td>\n",
              "      <td>3.310056</td>\n",
              "      <td>3.64718</td>\n",
              "      <td>3.289865</td>\n",
              "    </tr>\n",
              "    <tr>\n",
              "      <th>std</th>\n",
              "      <td>37493.270818</td>\n",
              "      <td>20.365190</td>\n",
              "      <td>4516.191530</td>\n",
              "      <td>93.206139</td>\n",
              "      <td>109.167328</td>\n",
              "      <td>1.359786</td>\n",
              "      <td>1.559323</td>\n",
              "      <td>1.430800</td>\n",
              "      <td>1.312628</td>\n",
              "      <td>1.357649</td>\n",
              "      <td>1.381889</td>\n",
              "      <td>1.349732</td>\n",
              "      <td>1.366866</td>\n",
              "      <td>1.335540</td>\n",
              "      <td>1.361633</td>\n",
              "      <td>1.221818</td>\n",
              "      <td>1.298626</td>\n",
              "      <td>1.21837</td>\n",
              "      <td>1.347625</td>\n",
              "    </tr>\n",
              "    <tr>\n",
              "      <th>min</th>\n",
              "      <td>1.000000</td>\n",
              "      <td>0.000000</td>\n",
              "      <td>0.000000</td>\n",
              "      <td>0.000000</td>\n",
              "      <td>0.000000</td>\n",
              "      <td>0.000000</td>\n",
              "      <td>0.000000</td>\n",
              "      <td>0.000000</td>\n",
              "      <td>0.000000</td>\n",
              "      <td>0.000000</td>\n",
              "      <td>0.000000</td>\n",
              "      <td>0.000000</td>\n",
              "      <td>0.000000</td>\n",
              "      <td>0.000000</td>\n",
              "      <td>0.000000</td>\n",
              "      <td>0.000000</td>\n",
              "      <td>0.000000</td>\n",
              "      <td>0.00000</td>\n",
              "      <td>0.000000</td>\n",
              "    </tr>\n",
              "    <tr>\n",
              "      <th>25%</th>\n",
              "      <td>32470.750000</td>\n",
              "      <td>27.000000</td>\n",
              "      <td>414.000000</td>\n",
              "      <td>0.000000</td>\n",
              "      <td>0.000000</td>\n",
              "      <td>2.000000</td>\n",
              "      <td>2.000000</td>\n",
              "      <td>2.000000</td>\n",
              "      <td>2.000000</td>\n",
              "      <td>2.000000</td>\n",
              "      <td>2.000000</td>\n",
              "      <td>2.000000</td>\n",
              "      <td>2.000000</td>\n",
              "      <td>2.000000</td>\n",
              "      <td>2.000000</td>\n",
              "      <td>3.000000</td>\n",
              "      <td>3.000000</td>\n",
              "      <td>3.00000</td>\n",
              "      <td>2.000000</td>\n",
              "    </tr>\n",
              "    <tr>\n",
              "      <th>50%</th>\n",
              "      <td>64940.500000</td>\n",
              "      <td>40.000000</td>\n",
              "      <td>846.000000</td>\n",
              "      <td>0.000000</td>\n",
              "      <td>0.000000</td>\n",
              "      <td>3.000000</td>\n",
              "      <td>3.000000</td>\n",
              "      <td>3.000000</td>\n",
              "      <td>3.000000</td>\n",
              "      <td>3.000000</td>\n",
              "      <td>3.000000</td>\n",
              "      <td>4.000000</td>\n",
              "      <td>4.000000</td>\n",
              "      <td>4.000000</td>\n",
              "      <td>4.000000</td>\n",
              "      <td>4.000000</td>\n",
              "      <td>3.000000</td>\n",
              "      <td>4.00000</td>\n",
              "      <td>3.000000</td>\n",
              "    </tr>\n",
              "    <tr>\n",
              "      <th>75%</th>\n",
              "      <td>97410.250000</td>\n",
              "      <td>51.000000</td>\n",
              "      <td>1744.000000</td>\n",
              "      <td>12.000000</td>\n",
              "      <td>13.000000</td>\n",
              "      <td>4.000000</td>\n",
              "      <td>4.000000</td>\n",
              "      <td>4.000000</td>\n",
              "      <td>4.000000</td>\n",
              "      <td>4.000000</td>\n",
              "      <td>4.000000</td>\n",
              "      <td>5.000000</td>\n",
              "      <td>4.000000</td>\n",
              "      <td>4.000000</td>\n",
              "      <td>4.000000</td>\n",
              "      <td>5.000000</td>\n",
              "      <td>4.000000</td>\n",
              "      <td>5.00000</td>\n",
              "      <td>4.000000</td>\n",
              "    </tr>\n",
              "    <tr>\n",
              "      <th>max</th>\n",
              "      <td>129880.000000</td>\n",
              "      <td>621.000000</td>\n",
              "      <td>379620.000000</td>\n",
              "      <td>22227.000000</td>\n",
              "      <td>14006.000000</td>\n",
              "      <td>45.000000</td>\n",
              "      <td>45.000000</td>\n",
              "      <td>45.000000</td>\n",
              "      <td>36.000000</td>\n",
              "      <td>45.000000</td>\n",
              "      <td>40.000000</td>\n",
              "      <td>45.000000</td>\n",
              "      <td>45.000000</td>\n",
              "      <td>45.000000</td>\n",
              "      <td>40.000000</td>\n",
              "      <td>40.000000</td>\n",
              "      <td>45.000000</td>\n",
              "      <td>40.00000</td>\n",
              "      <td>45.000000</td>\n",
              "    </tr>\n",
              "  </tbody>\n",
              "</table>\n",
              "</div>\n",
              "      <button class=\"colab-df-convert\" onclick=\"convertToInteractive('df-eeeee0e3-82aa-4548-9d78-59d63c70e72d')\"\n",
              "              title=\"Convert this dataframe to an interactive table.\"\n",
              "              style=\"display:none;\">\n",
              "        \n",
              "  <svg xmlns=\"http://www.w3.org/2000/svg\" height=\"24px\"viewBox=\"0 0 24 24\"\n",
              "       width=\"24px\">\n",
              "    <path d=\"M0 0h24v24H0V0z\" fill=\"none\"/>\n",
              "    <path d=\"M18.56 5.44l.94 2.06.94-2.06 2.06-.94-2.06-.94-.94-2.06-.94 2.06-2.06.94zm-11 1L8.5 8.5l.94-2.06 2.06-.94-2.06-.94L8.5 2.5l-.94 2.06-2.06.94zm10 10l.94 2.06.94-2.06 2.06-.94-2.06-.94-.94-2.06-.94 2.06-2.06.94z\"/><path d=\"M17.41 7.96l-1.37-1.37c-.4-.4-.92-.59-1.43-.59-.52 0-1.04.2-1.43.59L10.3 9.45l-7.72 7.72c-.78.78-.78 2.05 0 2.83L4 21.41c.39.39.9.59 1.41.59.51 0 1.02-.2 1.41-.59l7.78-7.78 2.81-2.81c.8-.78.8-2.07 0-2.86zM5.41 20L4 18.59l7.72-7.72 1.47 1.35L5.41 20z\"/>\n",
              "  </svg>\n",
              "      </button>\n",
              "      \n",
              "  <style>\n",
              "    .colab-df-container {\n",
              "      display:flex;\n",
              "      flex-wrap:wrap;\n",
              "      gap: 12px;\n",
              "    }\n",
              "\n",
              "    .colab-df-convert {\n",
              "      background-color: #E8F0FE;\n",
              "      border: none;\n",
              "      border-radius: 50%;\n",
              "      cursor: pointer;\n",
              "      display: none;\n",
              "      fill: #1967D2;\n",
              "      height: 32px;\n",
              "      padding: 0 0 0 0;\n",
              "      width: 32px;\n",
              "    }\n",
              "\n",
              "    .colab-df-convert:hover {\n",
              "      background-color: #E2EBFA;\n",
              "      box-shadow: 0px 1px 2px rgba(60, 64, 67, 0.3), 0px 1px 3px 1px rgba(60, 64, 67, 0.15);\n",
              "      fill: #174EA6;\n",
              "    }\n",
              "\n",
              "    [theme=dark] .colab-df-convert {\n",
              "      background-color: #3B4455;\n",
              "      fill: #D2E3FC;\n",
              "    }\n",
              "\n",
              "    [theme=dark] .colab-df-convert:hover {\n",
              "      background-color: #434B5C;\n",
              "      box-shadow: 0px 1px 3px 1px rgba(0, 0, 0, 0.15);\n",
              "      filter: drop-shadow(0px 1px 2px rgba(0, 0, 0, 0.3));\n",
              "      fill: #FFFFFF;\n",
              "    }\n",
              "  </style>\n",
              "\n",
              "      <script>\n",
              "        const buttonEl =\n",
              "          document.querySelector('#df-eeeee0e3-82aa-4548-9d78-59d63c70e72d button.colab-df-convert');\n",
              "        buttonEl.style.display =\n",
              "          google.colab.kernel.accessAllowed ? 'block' : 'none';\n",
              "\n",
              "        async function convertToInteractive(key) {\n",
              "          const element = document.querySelector('#df-eeeee0e3-82aa-4548-9d78-59d63c70e72d');\n",
              "          const dataTable =\n",
              "            await google.colab.kernel.invokeFunction('convertToInteractive',\n",
              "                                                     [key], {});\n",
              "          if (!dataTable) return;\n",
              "\n",
              "          const docLinkHtml = 'Like what you see? Visit the ' +\n",
              "            '<a target=\"_blank\" href=https://colab.research.google.com/notebooks/data_table.ipynb>data table notebook</a>'\n",
              "            + ' to learn more about interactive tables.';\n",
              "          element.innerHTML = '';\n",
              "          dataTable['output_type'] = 'display_data';\n",
              "          await google.colab.output.renderOutput(dataTable, element);\n",
              "          const docLink = document.createElement('div');\n",
              "          docLink.innerHTML = docLinkHtml;\n",
              "          element.appendChild(docLink);\n",
              "        }\n",
              "      </script>\n",
              "    </div>\n",
              "  </div>\n",
              "  "
            ]
          },
          "metadata": {},
          "execution_count": 97
        }
      ]
    },
    {
      "cell_type": "markdown",
      "source": [
        "Сразу заметим странности в максимальных значениях возраста, расстояния, задержек рейсов и оценок (которые, вероятно, должны быть в рамках пятибалльной шкалы). А также в минимальном значении расстояния полёта\n",
        "\n",
        "Запомним это и детальнее разберёмся с этими странностями далее"
      ],
      "metadata": {
        "id": "6LAPA_KQpZ74"
      }
    },
    {
      "cell_type": "markdown",
      "source": [
        "### Оценка качества данных"
      ],
      "metadata": {
        "id": "gCCxGMWQ3ExT"
      }
    },
    {
      "cell_type": "markdown",
      "source": [
        "#### Выбросы"
      ],
      "metadata": {
        "id": "CUyqp4HHeABL"
      }
    },
    {
      "cell_type": "markdown",
      "source": [
        "Рассмотрим отдельно колонки с оценками и на колонки с остальными признаками"
      ],
      "metadata": {
        "id": "QtVEKOKpd_fG"
      }
    },
    {
      "cell_type": "code",
      "source": [
        "score_cols = list(df.select_dtypes(include=['float64']))[4:]"
      ],
      "metadata": {
        "id": "0CcclUPjeamT"
      },
      "execution_count": 98,
      "outputs": []
    },
    {
      "cell_type": "code",
      "source": [
        "sns.histplot(df[score_cols]).set(title='Оценки')\n",
        "plt.yscale('log')\n",
        "plt.show()"
      ],
      "metadata": {
        "colab": {
          "base_uri": "https://localhost:8080/",
          "height": 487
        },
        "id": "qJ6IEpJWqh5K",
        "outputId": "00b57eac-36f4-4f7f-d802-d3b31910576f"
      },
      "execution_count": 99,
      "outputs": [
        {
          "output_type": "stream",
          "name": "stderr",
          "text": [
            "/usr/local/lib/python3.10/dist-packages/IPython/core/pylabtools.py:151: UserWarning: Creating legend with loc=\"best\" can be slow with large amounts of data.\n",
            "  fig.canvas.print_figure(bytes_io, **kw)\n"
          ]
        },
        {
          "output_type": "display_data",
          "data": {
            "text/plain": [
              "<Figure size 640x480 with 1 Axes>"
            ],
            "image/png": "[encoded data removed]"
          },
          "metadata": {}
        }
      ]
    },
    {
      "cell_type": "code",
      "source": [
        "df[score_cols].max()"
      ],
      "metadata": {
        "colab": {
          "base_uri": "https://localhost:8080/"
        },
        "id": "7Gkq3uWrufsU",
        "outputId": "f34b2b85-7532-41e7-ce94-344d81fe8873"
      },
      "execution_count": 100,
      "outputs": [
        {
          "output_type": "execute_result",
          "data": {
            "text/plain": [
              "Inflight wifi service                45.0\n",
              "Departure/Arrival time convenient    45.0\n",
              "Ease of Online booking               45.0\n",
              "Gate location                        36.0\n",
              "Food and drink                       45.0\n",
              "Online boarding                      40.0\n",
              "Seat comfort                         45.0\n",
              "Inflight entertainment               45.0\n",
              "On-board service                     45.0\n",
              "Leg room service                     40.0\n",
              "Baggage handling                     40.0\n",
              "Checkin service                      45.0\n",
              "Inflight service                     40.0\n",
              "Cleanliness                          45.0\n",
              "dtype: float64"
            ]
          },
          "metadata": {},
          "execution_count": 100
        }
      ]
    },
    {
      "cell_type": "markdown",
      "source": [
        "На логарифмической шкале заметно, что во всех колонках есть выбивающиеся оцень большие оценки. Проверим на одном примере, что шкала в опроснике действиетльно пятибалльная:"
      ],
      "metadata": {
        "id": "DfiteA-ypWn3"
      }
    },
    {
      "cell_type": "code",
      "source": [
        "answers = pd.DataFrame(df[[score_cols[0]]].value_counts(), columns=['Встречаемость'])\n",
        "answers"
      ],
      "metadata": {
        "colab": {
          "base_uri": "https://localhost:8080/",
          "height": 771
        },
        "id": "AZSeI8OlpWAg",
        "outputId": "e038ae60-4b2b-4a19-ee6b-d5c7f35eb457"
      },
      "execution_count": 101,
      "outputs": [
        {
          "output_type": "execute_result",
          "data": {
            "text/plain": [
              "                       Встречаемость\n",
              "Inflight wifi service               \n",
              "2.0                            32306\n",
              "3.0                            32156\n",
              "4.0                            24758\n",
              "1.0                            22318\n",
              "5.0                            14345\n",
              "0.0                             3918\n",
              "6.0                                7\n",
              "21.0                               4\n",
              "16.0                               3\n",
              "7.0                                3\n",
              "12.0                               3\n",
              "20.0                               2\n",
              "40.0                               2\n",
              "24.0                               2\n",
              "28.0                               1\n",
              "30.0                               1\n",
              "25.0                               1\n",
              "15.0                               1\n",
              "18.0                               1\n",
              "10.0                               1\n",
              "8.0                                1\n",
              "45.0                               1"
            ],
            "text/html": [
              "\n",
              "  <div id=\"df-0d9f8872-a64d-463b-9879-0da039540e72\">\n",
              "    <div class=\"colab-df-container\">\n",
              "      <div>\n",
              "<style scoped>\n",
              "    .dataframe tbody tr th:only-of-type {\n",
              "        vertical-align: middle;\n",
              "    }\n",
              "\n",
              "    .dataframe tbody tr th {\n",
              "        vertical-align: top;\n",
              "    }\n",
              "\n",
              "    .dataframe thead th {\n",
              "        text-align: right;\n",
              "    }\n",
              "</style>\n",
              "<table border=\"1\" class=\"dataframe\">\n",
              "  <thead>\n",
              "    <tr style=\"text-align: right;\">\n",
              "      <th></th>\n",
              "      <th>Встречаемость</th>\n",
              "    </tr>\n",
              "    <tr>\n",
              "      <th>Inflight wifi service</th>\n",
              "      <th></th>\n",
              "    </tr>\n",
              "  </thead>\n",
              "  <tbody>\n",
              "    <tr>\n",
              "      <th>2.0</th>\n",
              "      <td>32306</td>\n",
              "    </tr>\n",
              "    <tr>\n",
              "      <th>3.0</th>\n",
              "      <td>32156</td>\n",
              "    </tr>\n",
              "    <tr>\n",
              "      <th>4.0</th>\n",
              "      <td>24758</td>\n",
              "    </tr>\n",
              "    <tr>\n",
              "      <th>1.0</th>\n",
              "      <td>22318</td>\n",
              "    </tr>\n",
              "    <tr>\n",
              "      <th>5.0</th>\n",
              "      <td>14345</td>\n",
              "    </tr>\n",
              "    <tr>\n",
              "      <th>0.0</th>\n",
              "      <td>3918</td>\n",
              "    </tr>\n",
              "    <tr>\n",
              "      <th>6.0</th>\n",
              "      <td>7</td>\n",
              "    </tr>\n",
              "    <tr>\n",
              "      <th>21.0</th>\n",
              "      <td>4</td>\n",
              "    </tr>\n",
              "    <tr>\n",
              "      <th>16.0</th>\n",
              "      <td>3</td>\n",
              "    </tr>\n",
              "    <tr>\n",
              "      <th>7.0</th>\n",
              "      <td>3</td>\n",
              "    </tr>\n",
              "    <tr>\n",
              "      <th>12.0</th>\n",
              "      <td>3</td>\n",
              "    </tr>\n",
              "    <tr>\n",
              "      <th>20.0</th>\n",
              "      <td>2</td>\n",
              "    </tr>\n",
              "    <tr>\n",
              "      <th>40.0</th>\n",
              "      <td>2</td>\n",
              "    </tr>\n",
              "    <tr>\n",
              "      <th>24.0</th>\n",
              "      <td>2</td>\n",
              "    </tr>\n",
              "    <tr>\n",
              "      <th>28.0</th>\n",
              "      <td>1</td>\n",
              "    </tr>\n",
              "    <tr>\n",
              "      <th>30.0</th>\n",
              "      <td>1</td>\n",
              "    </tr>\n",
              "    <tr>\n",
              "      <th>25.0</th>\n",
              "      <td>1</td>\n",
              "    </tr>\n",
              "    <tr>\n",
              "      <th>15.0</th>\n",
              "      <td>1</td>\n",
              "    </tr>\n",
              "    <tr>\n",
              "      <th>18.0</th>\n",
              "      <td>1</td>\n",
              "    </tr>\n",
              "    <tr>\n",
              "      <th>10.0</th>\n",
              "      <td>1</td>\n",
              "    </tr>\n",
              "    <tr>\n",
              "      <th>8.0</th>\n",
              "      <td>1</td>\n",
              "    </tr>\n",
              "    <tr>\n",
              "      <th>45.0</th>\n",
              "      <td>1</td>\n",
              "    </tr>\n",
              "  </tbody>\n",
              "</table>\n",
              "</div>\n",
              "      <button class=\"colab-df-convert\" onclick=\"convertToInteractive('df-0d9f8872-a64d-463b-9879-0da039540e72')\"\n",
              "              title=\"Convert this dataframe to an interactive table.\"\n",
              "              style=\"display:none;\">\n",
              "        \n",
              "  <svg xmlns=\"http://www.w3.org/2000/svg\" height=\"24px\"viewBox=\"0 0 24 24\"\n",
              "       width=\"24px\">\n",
              "    <path d=\"M0 0h24v24H0V0z\" fill=\"none\"/>\n",
              "    <path d=\"M18.56 5.44l.94 2.06.94-2.06 2.06-.94-2.06-.94-.94-2.06-.94 2.06-2.06.94zm-11 1L8.5 8.5l.94-2.06 2.06-.94-2.06-.94L8.5 2.5l-.94 2.06-2.06.94zm10 10l.94 2.06.94-2.06 2.06-.94-2.06-.94-.94-2.06-.94 2.06-2.06.94z\"/><path d=\"M17.41 7.96l-1.37-1.37c-.4-.4-.92-.59-1.43-.59-.52 0-1.04.2-1.43.59L10.3 9.45l-7.72 7.72c-.78.78-.78 2.05 0 2.83L4 21.41c.39.39.9.59 1.41.59.51 0 1.02-.2 1.41-.59l7.78-7.78 2.81-2.81c.8-.78.8-2.07 0-2.86zM5.41 20L4 18.59l7.72-7.72 1.47 1.35L5.41 20z\"/>\n",
              "  </svg>\n",
              "      </button>\n",
              "      \n",
              "  <style>\n",
              "    .colab-df-container {\n",
              "      display:flex;\n",
              "      flex-wrap:wrap;\n",
              "      gap: 12px;\n",
              "    }\n",
              "\n",
              "    .colab-df-convert {\n",
              "      background-color: #E8F0FE;\n",
              "      border: none;\n",
              "      border-radius: 50%;\n",
              "      cursor: pointer;\n",
              "      display: none;\n",
              "      fill: #1967D2;\n",
              "      height: 32px;\n",
              "      padding: 0 0 0 0;\n",
              "      width: 32px;\n",
              "    }\n",
              "\n",
              "    .colab-df-convert:hover {\n",
              "      background-color: #E2EBFA;\n",
              "      box-shadow: 0px 1px 2px rgba(60, 64, 67, 0.3), 0px 1px 3px 1px rgba(60, 64, 67, 0.15);\n",
              "      fill: #174EA6;\n",
              "    }\n",
              "\n",
              "    [theme=dark] .colab-df-convert {\n",
              "      background-color: #3B4455;\n",
              "      fill: #D2E3FC;\n",
              "    }\n",
              "\n",
              "    [theme=dark] .colab-df-convert:hover {\n",
              "      background-color: #434B5C;\n",
              "      box-shadow: 0px 1px 3px 1px rgba(0, 0, 0, 0.15);\n",
              "      filter: drop-shadow(0px 1px 2px rgba(0, 0, 0, 0.3));\n",
              "      fill: #FFFFFF;\n",
              "    }\n",
              "  </style>\n",
              "\n",
              "      <script>\n",
              "        const buttonEl =\n",
              "          document.querySelector('#df-0d9f8872-a64d-463b-9879-0da039540e72 button.colab-df-convert');\n",
              "        buttonEl.style.display =\n",
              "          google.colab.kernel.accessAllowed ? 'block' : 'none';\n",
              "\n",
              "        async function convertToInteractive(key) {\n",
              "          const element = document.querySelector('#df-0d9f8872-a64d-463b-9879-0da039540e72');\n",
              "          const dataTable =\n",
              "            await google.colab.kernel.invokeFunction('convertToInteractive',\n",
              "                                                     [key], {});\n",
              "          if (!dataTable) return;\n",
              "\n",
              "          const docLinkHtml = 'Like what you see? Visit the ' +\n",
              "            '<a target=\"_blank\" href=https://colab.research.google.com/notebooks/data_table.ipynb>data table notebook</a>'\n",
              "            + ' to learn more about interactive tables.';\n",
              "          element.innerHTML = '';\n",
              "          dataTable['output_type'] = 'display_data';\n",
              "          await google.colab.output.renderOutput(dataTable, element);\n",
              "          const docLink = document.createElement('div');\n",
              "          docLink.innerHTML = docLinkHtml;\n",
              "          element.appendChild(docLink);\n",
              "        }\n",
              "      </script>\n",
              "    </div>\n",
              "  </div>\n",
              "  "
            ]
          },
          "metadata": {},
          "execution_count": 101
        }
      ]
    },
    {
      "cell_type": "markdown",
      "source": [
        "Оценки от 0 до 5 включительно встречаются тысячи раз, а оценки от 6 и выше единичны. В реальной ситуации можно было бы обратиться к составителями опроса и уточнить, как получились такие числа. Но такой возможности нет, поэтому я удалю эти данные, временно заменив на NaN, и в следующем разделе буду обрабатывать как пропуски."
      ],
      "metadata": {
        "id": "FcEGEuxoq3dQ"
      }
    },
    {
      "cell_type": "code",
      "source": [
        "for col in score_cols:\n",
        "    df[col] = np.where(df[col] > 5, np.NaN, df[col])\n",
        "\n",
        "# проверка:\n",
        "df[score_cols].max()"
      ],
      "metadata": {
        "id": "czXGdYdD-tiz",
        "colab": {
          "base_uri": "https://localhost:8080/"
        },
        "outputId": "fc5ab3ef-18e7-4ea5-f716-8bd68ae1b6ca"
      },
      "execution_count": 102,
      "outputs": [
        {
          "output_type": "execute_result",
          "data": {
            "text/plain": [
              "Inflight wifi service                5.0\n",
              "Departure/Arrival time convenient    5.0\n",
              "Ease of Online booking               5.0\n",
              "Gate location                        5.0\n",
              "Food and drink                       5.0\n",
              "Online boarding                      5.0\n",
              "Seat comfort                         5.0\n",
              "Inflight entertainment               5.0\n",
              "On-board service                     5.0\n",
              "Leg room service                     5.0\n",
              "Baggage handling                     5.0\n",
              "Checkin service                      5.0\n",
              "Inflight service                     5.0\n",
              "Cleanliness                          5.0\n",
              "dtype: float64"
            ]
          },
          "metadata": {},
          "execution_count": 102
        }
      ]
    },
    {
      "cell_type": "code",
      "source": [
        "h = sns.histplot(df[score_cols], binwidth=0.4)\n",
        "sns.move_legend(h, \"upper left\", bbox_to_anchor=(1, 1))"
      ],
      "metadata": {
        "colab": {
          "base_uri": "https://localhost:8080/",
          "height": 430
        },
        "id": "qr6SkwQ2vXc2",
        "outputId": "0da2d72d-16d4-4cb0-fd42-2e26957b0605"
      },
      "execution_count": 103,
      "outputs": [
        {
          "output_type": "display_data",
          "data": {
            "text/plain": [
              "<Figure size 640x480 with 1 Axes>"
            ],
            "image/png": "[encoded data removed]"
          },
          "metadata": {}
        }
      ]
    },
    {
      "cell_type": "markdown",
      "source": [
        "Теперь все шкалы с оценками распределены корректно. Перейдём к оставшимся признакам"
      ],
      "metadata": {
        "id": "AV_2jweb4hrM"
      }
    },
    {
      "cell_type": "code",
      "source": [
        "sns.histplot(df['Age'], kde=True)\n",
        "plt.show()"
      ],
      "metadata": {
        "colab": {
          "base_uri": "https://localhost:8080/",
          "height": 449
        },
        "id": "VPaS4Lvpuv8h",
        "outputId": "e3bddb4d-786b-47ea-8edf-135be1eb2c0d"
      },
      "execution_count": 104,
      "outputs": [
        {
          "output_type": "display_data",
          "data": {
            "text/plain": [
              "<Figure size 640x480 with 1 Axes>"
            ],
            "image/png": "[encoded data removed]"
          },
          "metadata": {}
        }
      ]
    },
    {
      "cell_type": "markdown",
      "source": [
        "Здесь есть явные выбросы по возрасту. Опираясь на здравый смысл, установим предел в 100 лет"
      ],
      "metadata": {
        "id": "ASjRk2AP5guW"
      }
    },
    {
      "cell_type": "code",
      "source": [
        "df['Age'] = np.where(df['Age'] > 100, np.NaN, df['Age'])"
      ],
      "metadata": {
        "id": "yXg6QATVvXkO"
      },
      "execution_count": 105,
      "outputs": []
    },
    {
      "cell_type": "code",
      "source": [
        "sns.histplot(df['Age'], kde=True)\n",
        "plt.show()"
      ],
      "metadata": {
        "colab": {
          "base_uri": "https://localhost:8080/",
          "height": 449
        },
        "id": "6mXPTepL55NH",
        "outputId": "c7cc93ef-6392-4995-80cc-190c1addc421"
      },
      "execution_count": 106,
      "outputs": [
        {
          "output_type": "display_data",
          "data": {
            "text/plain": [
              "<Figure size 640x480 with 1 Axes>"
            ],
            "image/png": "[encoded data removed]"
          },
          "metadata": {}
        }
      ]
    },
    {
      "cell_type": "markdown",
      "source": [
        "Дистанция. Это не такой очевидный параметр, как предыдущие, поэтому здесь я посчитаю за выбросы всё, что больше 95 перцентиля"
      ],
      "metadata": {
        "id": "xEkVhxap57dH"
      }
    },
    {
      "cell_type": "code",
      "source": [
        "# до обработки\n",
        "sns.histplot(df['Flight Distance'], kde=True)\n",
        "plt.show()"
      ],
      "metadata": {
        "colab": {
          "base_uri": "https://localhost:8080/",
          "height": 449
        },
        "id": "TtUD-pRR7h_z",
        "outputId": "081f3e4b-2014-483e-8aef-76839c968f23"
      },
      "execution_count": 107,
      "outputs": [
        {
          "output_type": "display_data",
          "data": {
            "text/plain": [
              "<Figure size 640x480 with 1 Axes>"
            ],
            "image/png": "[encoded data removed]"
          },
          "metadata": {}
        }
      ]
    },
    {
      "cell_type": "code",
      "source": [
        "flight_95 = np.nanpercentile(df['Flight Distance'], 95)\n",
        "\n",
        "df['Flight Distance'] = np.where(df['Flight Distance'] > flight_95, np.NaN, df['Flight Distance'])"
      ],
      "metadata": {
        "id": "JJyd4Ki36tDC"
      },
      "execution_count": 108,
      "outputs": []
    },
    {
      "cell_type": "code",
      "source": [
        "# после\n",
        "sns.histplot(df['Flight Distance'], kde=True)\n",
        "plt.show()"
      ],
      "metadata": {
        "colab": {
          "base_uri": "https://localhost:8080/",
          "height": 451
        },
        "id": "RP1AI-GluwBn",
        "outputId": "890ef688-45ae-4169-cca7-a73528cf561c"
      },
      "execution_count": 109,
      "outputs": [
        {
          "output_type": "display_data",
          "data": {
            "text/plain": [
              "<Figure size 640x480 with 1 Axes>"
            ],
            "image/png": "[encoded data removed]"
          },
          "metadata": {}
        }
      ]
    },
    {
      "cell_type": "markdown",
      "source": [
        "И то же самое с задержкой вылета и прилёта (в обоих признаках есть нереалистично большие значения, которые видно только на логарифмической шкале)"
      ],
      "metadata": {
        "id": "picu7XvM7XZf"
      }
    },
    {
      "cell_type": "code",
      "source": [
        "plt.figure(figsize=(10, 6))\n",
        "sns.histplot(df[['Departure Delay in Minutes', 'Arrival Delay in Minutes']], bins=100)\n",
        "plt.yscale('log')\n",
        "plt.show()"
      ],
      "metadata": {
        "colab": {
          "base_uri": "https://localhost:8080/",
          "height": 522
        },
        "id": "eCrdtONCuwHX",
        "outputId": "03d5e3d4-6a2a-4815-f161-2425466d6485"
      },
      "execution_count": 110,
      "outputs": [
        {
          "output_type": "display_data",
          "data": {
            "text/plain": [
              "<Figure size 1000x600 with 1 Axes>"
            ],
            "image/png": "[encoded data removed]"
          },
          "metadata": {}
        }
      ]
    },
    {
      "cell_type": "code",
      "source": [
        "# nb: здесь перцентиль 99\n",
        "departure_99 = np.nanpercentile(df['Departure Delay in Minutes'], 99)\n",
        "df['Departure Delay in Minutes'] = np.where(df['Departure Delay in Minutes'] > departure_99, np.NaN, df['Departure Delay in Minutes'])\n",
        "\n",
        "arrival_99 = np.nanpercentile(df['Arrival Delay in Minutes'], 99)\n",
        "df['Arrival Delay in Minutes'] = np.where(df['Arrival Delay in Minutes'] > arrival_99, np.NaN, df['Arrival Delay in Minutes'])"
      ],
      "metadata": {
        "id": "oh_ESA10vx-o"
      },
      "execution_count": 111,
      "outputs": []
    },
    {
      "cell_type": "code",
      "source": [
        "sns.histplot(df[['Departure Delay in Minutes', 'Arrival Delay in Minutes']])\n",
        "plt.show()"
      ],
      "metadata": {
        "colab": {
          "base_uri": "https://localhost:8080/",
          "height": 430
        },
        "id": "p7WV6MK0wDRy",
        "outputId": "78b928cb-ef86-41f2-c3d5-0de60acd43a6"
      },
      "execution_count": 112,
      "outputs": [
        {
          "output_type": "display_data",
          "data": {
            "text/plain": [
              "<Figure size 640x480 with 1 Axes>"
            ],
            "image/png": "[encoded data removed]"
          },
          "metadata": {}
        }
      ]
    },
    {
      "cell_type": "markdown",
      "source": [
        "После удаления выбросов время задержки не превысило ≈3 часа"
      ],
      "metadata": {
        "id": "Ec_qCiy0xQ59"
      }
    },
    {
      "cell_type": "markdown",
      "source": [
        "#### Дубли и пропуски"
      ],
      "metadata": {
        "id": "GllKpc9Nd8vu"
      }
    },
    {
      "cell_type": "markdown",
      "source": [
        "Узнаем, есть ли дубли:"
      ],
      "metadata": {
        "id": "KIetv0_VPVIT"
      }
    },
    {
      "cell_type": "code",
      "source": [
        "duplicates = df[df.duplicated()]\n",
        "len(duplicates)"
      ],
      "metadata": {
        "colab": {
          "base_uri": "https://localhost:8080/"
        },
        "id": "47aRF_Nn3EPq",
        "outputId": "346a2f2d-a373-459e-c8b9-53e2bb34f3ff"
      },
      "execution_count": 113,
      "outputs": [
        {
          "output_type": "execute_result",
          "data": {
            "text/plain": [
              "0"
            ]
          },
          "metadata": {},
          "execution_count": 113
        }
      ]
    },
    {
      "cell_type": "markdown",
      "source": [
        "Посчитаем пропуски в колонках (помним, что часть из них возникла на месте выбросов):"
      ],
      "metadata": {
        "id": "OF1y7i1DPYC4"
      }
    },
    {
      "cell_type": "code",
      "source": [
        "nulls = pd.DataFrame(df.isna().sum(), columns=['NaN count'])\n",
        "nulls['NaN %'] = round(df.isna().sum() * 100 / len(df), 2)\n",
        "nulls"
      ],
      "metadata": {
        "colab": {
          "base_uri": "https://localhost:8080/",
          "height": 802
        },
        "id": "xJrBeLp54eNP",
        "outputId": "b1e9a82c-2972-4c7b-ba82-4bafb52a396a"
      },
      "execution_count": 114,
      "outputs": [
        {
          "output_type": "execute_result",
          "data": {
            "text/plain": [
              "                                   NaN count  NaN %\n",
              "id                                         0   0.00\n",
              "Gender                                   331   0.25\n",
              "Age                                      726   0.56\n",
              "Customer Type                             77   0.06\n",
              "Type of Travel                           101   0.08\n",
              "Class                                    116   0.09\n",
              "Flight Distance                         6579   5.07\n",
              "Departure Delay in Minutes              1403   1.08\n",
              "Arrival Delay in Minutes                1784   1.37\n",
              "Inflight wifi service                     79   0.06\n",
              "Departure/Arrival time convenient         88   0.07\n",
              "Ease of Online booking                    73   0.06\n",
              "Gate location                             81   0.06\n",
              "Food and drink                            82   0.06\n",
              "Online boarding                           80   0.06\n",
              "Seat comfort                              91   0.07\n",
              "Inflight entertainment                    73   0.06\n",
              "On-board service                          72   0.06\n",
              "Leg room service                          87   0.07\n",
              "Baggage handling                          77   0.06\n",
              "Checkin service                           80   0.06\n",
              "Inflight service                         106   0.08\n",
              "Cleanliness                               65   0.05\n",
              "satisfaction                               0   0.00"
            ],
            "text/html": [
              "\n",
              "  <div id=\"df-c0f864d7-4dc4-4c39-800f-2f45ee8b524c\">\n",
              "    <div class=\"colab-df-container\">\n",
              "      <div>\n",
              "<style scoped>\n",
              "    .dataframe tbody tr th:only-of-type {\n",
              "        vertical-align: middle;\n",
              "    }\n",
              "\n",
              "    .dataframe tbody tr th {\n",
              "        vertical-align: top;\n",
              "    }\n",
              "\n",
              "    .dataframe thead th {\n",
              "        text-align: right;\n",
              "    }\n",
              "</style>\n",
              "<table border=\"1\" class=\"dataframe\">\n",
              "  <thead>\n",
              "    <tr style=\"text-align: right;\">\n",
              "      <th></th>\n",
              "      <th>NaN count</th>\n",
              "      <th>NaN %</th>\n",
              "    </tr>\n",
              "  </thead>\n",
              "  <tbody>\n",
              "    <tr>\n",
              "      <th>id</th>\n",
              "      <td>0</td>\n",
              "      <td>0.00</td>\n",
              "    </tr>\n",
              "    <tr>\n",
              "      <th>Gender</th>\n",
              "      <td>331</td>\n",
              "      <td>0.25</td>\n",
              "    </tr>\n",
              "    <tr>\n",
              "      <th>Age</th>\n",
              "      <td>726</td>\n",
              "      <td>0.56</td>\n",
              "    </tr>\n",
              "    <tr>\n",
              "      <th>Customer Type</th>\n",
              "      <td>77</td>\n",
              "      <td>0.06</td>\n",
              "    </tr>\n",
              "    <tr>\n",
              "      <th>Type of Travel</th>\n",
              "      <td>101</td>\n",
              "      <td>0.08</td>\n",
              "    </tr>\n",
              "    <tr>\n",
              "      <th>Class</th>\n",
              "      <td>116</td>\n",
              "      <td>0.09</td>\n",
              "    </tr>\n",
              "    <tr>\n",
              "      <th>Flight Distance</th>\n",
              "      <td>6579</td>\n",
              "      <td>5.07</td>\n",
              "    </tr>\n",
              "    <tr>\n",
              "      <th>Departure Delay in Minutes</th>\n",
              "      <td>1403</td>\n",
              "      <td>1.08</td>\n",
              "    </tr>\n",
              "    <tr>\n",
              "      <th>Arrival Delay in Minutes</th>\n",
              "      <td>1784</td>\n",
              "      <td>1.37</td>\n",
              "    </tr>\n",
              "    <tr>\n",
              "      <th>Inflight wifi service</th>\n",
              "      <td>79</td>\n",
              "      <td>0.06</td>\n",
              "    </tr>\n",
              "    <tr>\n",
              "      <th>Departure/Arrival time convenient</th>\n",
              "      <td>88</td>\n",
              "      <td>0.07</td>\n",
              "    </tr>\n",
              "    <tr>\n",
              "      <th>Ease of Online booking</th>\n",
              "      <td>73</td>\n",
              "      <td>0.06</td>\n",
              "    </tr>\n",
              "    <tr>\n",
              "      <th>Gate location</th>\n",
              "      <td>81</td>\n",
              "      <td>0.06</td>\n",
              "    </tr>\n",
              "    <tr>\n",
              "      <th>Food and drink</th>\n",
              "      <td>82</td>\n",
              "      <td>0.06</td>\n",
              "    </tr>\n",
              "    <tr>\n",
              "      <th>Online boarding</th>\n",
              "      <td>80</td>\n",
              "      <td>0.06</td>\n",
              "    </tr>\n",
              "    <tr>\n",
              "      <th>Seat comfort</th>\n",
              "      <td>91</td>\n",
              "      <td>0.07</td>\n",
              "    </tr>\n",
              "    <tr>\n",
              "      <th>Inflight entertainment</th>\n",
              "      <td>73</td>\n",
              "      <td>0.06</td>\n",
              "    </tr>\n",
              "    <tr>\n",
              "      <th>On-board service</th>\n",
              "      <td>72</td>\n",
              "      <td>0.06</td>\n",
              "    </tr>\n",
              "    <tr>\n",
              "      <th>Leg room service</th>\n",
              "      <td>87</td>\n",
              "      <td>0.07</td>\n",
              "    </tr>\n",
              "    <tr>\n",
              "      <th>Baggage handling</th>\n",
              "      <td>77</td>\n",
              "      <td>0.06</td>\n",
              "    </tr>\n",
              "    <tr>\n",
              "      <th>Checkin service</th>\n",
              "      <td>80</td>\n",
              "      <td>0.06</td>\n",
              "    </tr>\n",
              "    <tr>\n",
              "      <th>Inflight service</th>\n",
              "      <td>106</td>\n",
              "      <td>0.08</td>\n",
              "    </tr>\n",
              "    <tr>\n",
              "      <th>Cleanliness</th>\n",
              "      <td>65</td>\n",
              "      <td>0.05</td>\n",
              "    </tr>\n",
              "    <tr>\n",
              "      <th>satisfaction</th>\n",
              "      <td>0</td>\n",
              "      <td>0.00</td>\n",
              "    </tr>\n",
              "  </tbody>\n",
              "</table>\n",
              "</div>\n",
              "      <button class=\"colab-df-convert\" onclick=\"convertToInteractive('df-c0f864d7-4dc4-4c39-800f-2f45ee8b524c')\"\n",
              "              title=\"Convert this dataframe to an interactive table.\"\n",
              "              style=\"display:none;\">\n",
              "        \n",
              "  <svg xmlns=\"http://www.w3.org/2000/svg\" height=\"24px\"viewBox=\"0 0 24 24\"\n",
              "       width=\"24px\">\n",
              "    <path d=\"M0 0h24v24H0V0z\" fill=\"none\"/>\n",
              "    <path d=\"M18.56 5.44l.94 2.06.94-2.06 2.06-.94-2.06-.94-.94-2.06-.94 2.06-2.06.94zm-11 1L8.5 8.5l.94-2.06 2.06-.94-2.06-.94L8.5 2.5l-.94 2.06-2.06.94zm10 10l.94 2.06.94-2.06 2.06-.94-2.06-.94-.94-2.06-.94 2.06-2.06.94z\"/><path d=\"M17.41 7.96l-1.37-1.37c-.4-.4-.92-.59-1.43-.59-.52 0-1.04.2-1.43.59L10.3 9.45l-7.72 7.72c-.78.78-.78 2.05 0 2.83L4 21.41c.39.39.9.59 1.41.59.51 0 1.02-.2 1.41-.59l7.78-7.78 2.81-2.81c.8-.78.8-2.07 0-2.86zM5.41 20L4 18.59l7.72-7.72 1.47 1.35L5.41 20z\"/>\n",
              "  </svg>\n",
              "      </button>\n",
              "      \n",
              "  <style>\n",
              "    .colab-df-container {\n",
              "      display:flex;\n",
              "      flex-wrap:wrap;\n",
              "      gap: 12px;\n",
              "    }\n",
              "\n",
              "    .colab-df-convert {\n",
              "      background-color: #E8F0FE;\n",
              "      border: none;\n",
              "      border-radius: 50%;\n",
              "      cursor: pointer;\n",
              "      display: none;\n",
              "      fill: #1967D2;\n",
              "      height: 32px;\n",
              "      padding: 0 0 0 0;\n",
              "      width: 32px;\n",
              "    }\n",
              "\n",
              "    .colab-df-convert:hover {\n",
              "      background-color: #E2EBFA;\n",
              "      box-shadow: 0px 1px 2px rgba(60, 64, 67, 0.3), 0px 1px 3px 1px rgba(60, 64, 67, 0.15);\n",
              "      fill: #174EA6;\n",
              "    }\n",
              "\n",
              "    [theme=dark] .colab-df-convert {\n",
              "      background-color: #3B4455;\n",
              "      fill: #D2E3FC;\n",
              "    }\n",
              "\n",
              "    [theme=dark] .colab-df-convert:hover {\n",
              "      background-color: #434B5C;\n",
              "      box-shadow: 0px 1px 3px 1px rgba(0, 0, 0, 0.15);\n",
              "      filter: drop-shadow(0px 1px 2px rgba(0, 0, 0, 0.3));\n",
              "      fill: #FFFFFF;\n",
              "    }\n",
              "  </style>\n",
              "\n",
              "      <script>\n",
              "        const buttonEl =\n",
              "          document.querySelector('#df-c0f864d7-4dc4-4c39-800f-2f45ee8b524c button.colab-df-convert');\n",
              "        buttonEl.style.display =\n",
              "          google.colab.kernel.accessAllowed ? 'block' : 'none';\n",
              "\n",
              "        async function convertToInteractive(key) {\n",
              "          const element = document.querySelector('#df-c0f864d7-4dc4-4c39-800f-2f45ee8b524c');\n",
              "          const dataTable =\n",
              "            await google.colab.kernel.invokeFunction('convertToInteractive',\n",
              "                                                     [key], {});\n",
              "          if (!dataTable) return;\n",
              "\n",
              "          const docLinkHtml = 'Like what you see? Visit the ' +\n",
              "            '<a target=\"_blank\" href=https://colab.research.google.com/notebooks/data_table.ipynb>data table notebook</a>'\n",
              "            + ' to learn more about interactive tables.';\n",
              "          element.innerHTML = '';\n",
              "          dataTable['output_type'] = 'display_data';\n",
              "          await google.colab.output.renderOutput(dataTable, element);\n",
              "          const docLink = document.createElement('div');\n",
              "          docLink.innerHTML = docLinkHtml;\n",
              "          element.appendChild(docLink);\n",
              "        }\n",
              "      </script>\n",
              "    </div>\n",
              "  </div>\n",
              "  "
            ]
          },
          "metadata": {},
          "execution_count": 114
        }
      ]
    },
    {
      "cell_type": "markdown",
      "source": [
        "Видно, что во всех колонках, кроме id и satisfaction, есть отсутствующие значения. Можно предположить, что эти пропуски распределены не равномерно и в датасете есть строки, для которых почти вся информация отсутствует. В таком случае строки, которые почти не содержат информации было бы разумнее удалить, а не заполнять их искуственно.\n",
        "\n",
        "Чтобы это проверить, посчитаем, сколько пропусков вообще бывает в каждой строке:"
      ],
      "metadata": {
        "id": "STqoJ4RXPTBb"
      }
    },
    {
      "cell_type": "code",
      "source": [
        "df['n_nulls'] = df.isnull().sum(axis=1)\n",
        "df['n_nulls'].value_counts()"
      ],
      "metadata": {
        "colab": {
          "base_uri": "https://localhost:8080/"
        },
        "id": "6SKacupL5wtO",
        "outputId": "08080c26-e927-43ee-dbd0-73c245d61c9a"
      },
      "execution_count": 115,
      "outputs": [
        {
          "output_type": "execute_result",
          "data": {
            "text/plain": [
              "0    119022\n",
              "1      9547\n",
              "2      1230\n",
              "3        80\n",
              "4         1\n",
              "Name: n_nulls, dtype: int64"
            ]
          },
          "metadata": {},
          "execution_count": 115
        }
      ]
    },
    {
      "cell_type": "markdown",
      "source": [
        "Гипотеза не подтвердилась, все строки содержат не больше трёх пропусков. Следовательно, не получится избавиться от большинства из них ценой всего нескольских строк данных"
      ],
      "metadata": {
        "id": "1NfMZrVoRWyT"
      }
    },
    {
      "cell_type": "markdown",
      "source": [
        "Как было видно выше, в этих колонках пропуски занимают десятые и сотые доли процента. Я заменю их на средние значения для соответствующей колонки (важно, что среднее здесь считается уже без выбросов):"
      ],
      "metadata": {
        "id": "uEXtPakjUgFi"
      }
    },
    {
      "cell_type": "code",
      "source": [
        "has_nulls = nulls[nulls['NaN count'] > 0].index"
      ],
      "metadata": {
        "id": "KquVLj2q-38z"
      },
      "execution_count": 116,
      "outputs": []
    },
    {
      "cell_type": "code",
      "source": [
        "has_nulls"
      ],
      "metadata": {
        "colab": {
          "base_uri": "https://localhost:8080/"
        },
        "id": "C_4nCoaJAL7-",
        "outputId": "4f8093ec-091f-4dde-9c73-7e959c5ca41c"
      },
      "execution_count": 117,
      "outputs": [
        {
          "output_type": "execute_result",
          "data": {
            "text/plain": [
              "Index(['Gender', 'Age', 'Customer Type', 'Type of Travel', 'Class',\n",
              "       'Flight Distance', 'Departure Delay in Minutes',\n",
              "       'Arrival Delay in Minutes', 'Inflight wifi service',\n",
              "       'Departure/Arrival time convenient', 'Ease of Online booking',\n",
              "       'Gate location', 'Food and drink', 'Online boarding', 'Seat comfort',\n",
              "       'Inflight entertainment', 'On-board service', 'Leg room service',\n",
              "       'Baggage handling', 'Checkin service', 'Inflight service',\n",
              "       'Cleanliness'],\n",
              "      dtype='object')"
            ]
          },
          "metadata": {},
          "execution_count": 117
        }
      ]
    },
    {
      "cell_type": "code",
      "source": [
        "for col in has_nulls:\n",
        "    if df[col].dtype == 'int64' or df[col].dtype == 'float64':\n",
        "        df[col].fillna(df[col].mean(), inplace=True)"
      ],
      "metadata": {
        "id": "mWgs3vmE-zA8"
      },
      "execution_count": 119,
      "outputs": []
    },
    {
      "cell_type": "markdown",
      "source": [
        "Пропуски в числовых колонках заполнены, теперь внимательнее рассмотрим нечисловые колонки"
      ],
      "metadata": {
        "id": "-dgv2nhAeJPS"
      }
    },
    {
      "cell_type": "code",
      "source": [
        "object_cols = list(df.select_dtypes(include=['object']))\n",
        "for col in object_cols:\n",
        "    print(df[col].value_counts(dropna=False), '\\n')"
      ],
      "metadata": {
        "colab": {
          "base_uri": "https://localhost:8080/"
        },
        "id": "gUob40XteImd",
        "outputId": "f983964d-da61-408a-85ba-bc61461c46aa"
      },
      "execution_count": 120,
      "outputs": [
        {
          "output_type": "stream",
          "name": "stdout",
          "text": [
            "Female    65726\n",
            "Male      63823\n",
            "NaN         331\n",
            "Name: Gender, dtype: int64 \n",
            "\n",
            "Loyal Customer       106040\n",
            "disloyal Customer     23763\n",
            "NaN                      77\n",
            "Name: Customer Type, dtype: int64 \n",
            "\n",
            "Business travel    89625\n",
            "Personal Travel    40154\n",
            "NaN                  101\n",
            "Name: Type of Travel, dtype: int64 \n",
            "\n",
            "Business    62103\n",
            "Eco         58264\n",
            "Eco Plus     9397\n",
            "NaN           116\n",
            "Name: Class, dtype: int64 \n",
            "\n",
            "neutral or dissatisfied    58879\n",
            "satisfied                  45025\n",
            "-                          25976\n",
            "Name: satisfaction, dtype: int64 \n",
            "\n"
          ]
        }
      ]
    },
    {
      "cell_type": "markdown",
      "source": [
        "В этих колонках небольшое количество NaN-ов, заполнить которые средним/модой было бы странно, а для выделения в отдельную категорию пропусков слишком мало. Строки с этими данными я выберу удалить"
      ],
      "metadata": {
        "id": "r8BStES-hPVF"
      }
    },
    {
      "cell_type": "code",
      "source": [
        "df.dropna(subset = object_cols, inplace=True)"
      ],
      "metadata": {
        "id": "hnBElocgCQ0j"
      },
      "execution_count": 121,
      "outputs": []
    },
    {
      "cell_type": "markdown",
      "source": [
        "Обратим внимание, что в колонке satisfaction есть прочерки, не обозначенные как NaN!\n",
        "\n",
        "Так как это целевая переменная, заменить её модой или категорией unknown будет некорректно. Эти данные придётся удалить из набора, так как для текущей задачи для обучения нам важен правильный ответ"
      ],
      "metadata": {
        "id": "5PCsYIGrCOHO"
      }
    },
    {
      "cell_type": "code",
      "source": [
        "df = df[df['satisfaction'] != '-']"
      ],
      "metadata": {
        "id": "ozME7jP5DPsD"
      },
      "execution_count": 122,
      "outputs": []
    },
    {
      "cell_type": "markdown",
      "source": [
        "#### Кодирование категориальных признаков\n",
        "У нас 5 колонок с категориальными признаками, 4 из которых бинарные. Я выполню кодирование на всём массиве данных, ещё до разбиения на трейн и тест"
      ],
      "metadata": {
        "id": "W8sQShetFiNR"
      }
    },
    {
      "cell_type": "code",
      "source": [
        "df['Gender'] = df['Gender'].apply(lambda x: 0 if x == 'Male' else 1)\n",
        "df['Loyalty'] = df['Customer Type'].apply(lambda x: 1 if x == 'Loyal Customer' else 0)\n",
        "df['Business'] = df['Type of Travel'].apply(lambda x: 1 if x == 'Business travel' else 0)\n",
        "df['Satisfied'] = df['satisfaction'].apply(lambda x: 0 if x == 'neutral or dissatisfied' else 1)"
      ],
      "metadata": {
        "id": "6FbZ6N0bMVjC",
        "colab": {
          "base_uri": "https://localhost:8080/"
        },
        "outputId": "e73fcc6a-8bc5-483c-ab69-1948139abfa8"
      },
      "execution_count": 123,
      "outputs": [
        {
          "output_type": "stream",
          "name": "stderr",
          "text": [
            "<ipython-input-123-3dae5ce45cc8>:1: SettingWithCopyWarning: \n",
            "A value is trying to be set on a copy of a slice from a DataFrame.\n",
            "Try using .loc[row_indexer,col_indexer] = value instead\n",
            "\n",
            "See the caveats in the documentation: https://pandas.pydata.org/pandas-docs/stable/user_guide/indexing.html#returning-a-view-versus-a-copy\n",
            "  df['Gender'] = df['Gender'].apply(lambda x: 0 if x == 'Male' else 1)\n",
            "<ipython-input-123-3dae5ce45cc8>:2: SettingWithCopyWarning: \n",
            "A value is trying to be set on a copy of a slice from a DataFrame.\n",
            "Try using .loc[row_indexer,col_indexer] = value instead\n",
            "\n",
            "See the caveats in the documentation: https://pandas.pydata.org/pandas-docs/stable/user_guide/indexing.html#returning-a-view-versus-a-copy\n",
            "  df['Loyalty'] = df['Customer Type'].apply(lambda x: 1 if x == 'Loyal Customer' else 0)\n",
            "<ipython-input-123-3dae5ce45cc8>:3: SettingWithCopyWarning: \n",
            "A value is trying to be set on a copy of a slice from a DataFrame.\n",
            "Try using .loc[row_indexer,col_indexer] = value instead\n",
            "\n",
            "See the caveats in the documentation: https://pandas.pydata.org/pandas-docs/stable/user_guide/indexing.html#returning-a-view-versus-a-copy\n",
            "  df['Business'] = df['Type of Travel'].apply(lambda x: 1 if x == 'Business travel' else 0)\n",
            "<ipython-input-123-3dae5ce45cc8>:4: SettingWithCopyWarning: \n",
            "A value is trying to be set on a copy of a slice from a DataFrame.\n",
            "Try using .loc[row_indexer,col_indexer] = value instead\n",
            "\n",
            "See the caveats in the documentation: https://pandas.pydata.org/pandas-docs/stable/user_guide/indexing.html#returning-a-view-versus-a-copy\n",
            "  df['Satisfied'] = df['satisfaction'].apply(lambda x: 0 if x == 'neutral or dissatisfied' else 1)\n"
          ]
        }
      ]
    },
    {
      "cell_type": "code",
      "source": [
        "enc_class = pd.get_dummies(df['Class'], drop_first=True)\n",
        "df = pd.concat([df, enc_class], axis=1)\n",
        "df.head(3)"
      ],
      "metadata": {
        "colab": {
          "base_uri": "https://localhost:8080/",
          "height": 304
        },
        "id": "OIttDdyYOcDA",
        "outputId": "175997f1-38b9-4a25-f738-0bf02028e764"
      },
      "execution_count": 124,
      "outputs": [
        {
          "output_type": "execute_result",
          "data": {
            "text/plain": [
              "   id  Gender   Age      Customer Type   Type of Travel     Class  \\\n",
              "0   1       0  48.0  disloyal Customer  Business travel  Business   \n",
              "1   2       1  35.0     Loyal Customer  Business travel  Business   \n",
              "2   3       0  41.0     Loyal Customer  Business travel  Business   \n",
              "\n",
              "   Flight Distance  Departure Delay in Minutes  Arrival Delay in Minutes  \\\n",
              "0            821.0                         2.0                       5.0   \n",
              "1            821.0                        26.0                      39.0   \n",
              "2            853.0                         0.0                       0.0   \n",
              "\n",
              "   Inflight wifi service  ...  Checkin service  Inflight service  Cleanliness  \\\n",
              "0                    3.0  ...              4.0               5.0          5.0   \n",
              "1                    2.0  ...              3.0               5.0          5.0   \n",
              "2                    4.0  ...              4.0               3.0          5.0   \n",
              "\n",
              "              satisfaction  n_nulls  Loyalty  Business  Satisfied  Eco  \\\n",
              "0  neutral or dissatisfied        0        0         1          0    0   \n",
              "1                satisfied        0        1         1          1    0   \n",
              "2                satisfied        0        1         1          1    0   \n",
              "\n",
              "   Eco Plus  \n",
              "0         0  \n",
              "1         0  \n",
              "2         0  \n",
              "\n",
              "[3 rows x 30 columns]"
            ],
            "text/html": [
              "\n",
              "  <div id=\"df-9acef921-b24c-4630-84e7-2eaad7cc44b7\">\n",
              "    <div class=\"colab-df-container\">\n",
              "      <div>\n",
              "<style scoped>\n",
              "    .dataframe tbody tr th:only-of-type {\n",
              "        vertical-align: middle;\n",
              "    }\n",
              "\n",
              "    .dataframe tbody tr th {\n",
              "        vertical-align: top;\n",
              "    }\n",
              "\n",
              "    .dataframe thead th {\n",
              "        text-align: right;\n",
              "    }\n",
              "</style>\n",
              "<table border=\"1\" class=\"dataframe\">\n",
              "  <thead>\n",
              "    <tr style=\"text-align: right;\">\n",
              "      <th></th>\n",
              "      <th>id</th>\n",
              "      <th>Gender</th>\n",
              "      <th>Age</th>\n",
              "      <th>Customer Type</th>\n",
              "      <th>Type of Travel</th>\n",
              "      <th>Class</th>\n",
              "      <th>Flight Distance</th>\n",
              "      <th>Departure Delay in Minutes</th>\n",
              "      <th>Arrival Delay in Minutes</th>\n",
              "      <th>Inflight wifi service</th>\n",
              "      <th>...</th>\n",
              "      <th>Checkin service</th>\n",
              "      <th>Inflight service</th>\n",
              "      <th>Cleanliness</th>\n",
              "      <th>satisfaction</th>\n",
              "      <th>n_nulls</th>\n",
              "      <th>Loyalty</th>\n",
              "      <th>Business</th>\n",
              "      <th>Satisfied</th>\n",
              "      <th>Eco</th>\n",
              "      <th>Eco Plus</th>\n",
              "    </tr>\n",
              "  </thead>\n",
              "  <tbody>\n",
              "    <tr>\n",
              "      <th>0</th>\n",
              "      <td>1</td>\n",
              "      <td>0</td>\n",
              "      <td>48.0</td>\n",
              "      <td>disloyal Customer</td>\n",
              "      <td>Business travel</td>\n",
              "      <td>Business</td>\n",
              "      <td>821.0</td>\n",
              "      <td>2.0</td>\n",
              "      <td>5.0</td>\n",
              "      <td>3.0</td>\n",
              "      <td>...</td>\n",
              "      <td>4.0</td>\n",
              "      <td>5.0</td>\n",
              "      <td>5.0</td>\n",
              "      <td>neutral or dissatisfied</td>\n",
              "      <td>0</td>\n",
              "      <td>0</td>\n",
              "      <td>1</td>\n",
              "      <td>0</td>\n",
              "      <td>0</td>\n",
              "      <td>0</td>\n",
              "    </tr>\n",
              "    <tr>\n",
              "      <th>1</th>\n",
              "      <td>2</td>\n",
              "      <td>1</td>\n",
              "      <td>35.0</td>\n",
              "      <td>Loyal Customer</td>\n",
              "      <td>Business travel</td>\n",
              "      <td>Business</td>\n",
              "      <td>821.0</td>\n",
              "      <td>26.0</td>\n",
              "      <td>39.0</td>\n",
              "      <td>2.0</td>\n",
              "      <td>...</td>\n",
              "      <td>3.0</td>\n",
              "      <td>5.0</td>\n",
              "      <td>5.0</td>\n",
              "      <td>satisfied</td>\n",
              "      <td>0</td>\n",
              "      <td>1</td>\n",
              "      <td>1</td>\n",
              "      <td>1</td>\n",
              "      <td>0</td>\n",
              "      <td>0</td>\n",
              "    </tr>\n",
              "    <tr>\n",
              "      <th>2</th>\n",
              "      <td>3</td>\n",
              "      <td>0</td>\n",
              "      <td>41.0</td>\n",
              "      <td>Loyal Customer</td>\n",
              "      <td>Business travel</td>\n",
              "      <td>Business</td>\n",
              "      <td>853.0</td>\n",
              "      <td>0.0</td>\n",
              "      <td>0.0</td>\n",
              "      <td>4.0</td>\n",
              "      <td>...</td>\n",
              "      <td>4.0</td>\n",
              "      <td>3.0</td>\n",
              "      <td>5.0</td>\n",
              "      <td>satisfied</td>\n",
              "      <td>0</td>\n",
              "      <td>1</td>\n",
              "      <td>1</td>\n",
              "      <td>1</td>\n",
              "      <td>0</td>\n",
              "      <td>0</td>\n",
              "    </tr>\n",
              "  </tbody>\n",
              "</table>\n",
              "<p>3 rows × 30 columns</p>\n",
              "</div>\n",
              "      <button class=\"colab-df-convert\" onclick=\"convertToInteractive('df-9acef921-b24c-4630-84e7-2eaad7cc44b7')\"\n",
              "              title=\"Convert this dataframe to an interactive table.\"\n",
              "              style=\"display:none;\">\n",
              "        \n",
              "  <svg xmlns=\"http://www.w3.org/2000/svg\" height=\"24px\"viewBox=\"0 0 24 24\"\n",
              "       width=\"24px\">\n",
              "    <path d=\"M0 0h24v24H0V0z\" fill=\"none\"/>\n",
              "    <path d=\"M18.56 5.44l.94 2.06.94-2.06 2.06-.94-2.06-.94-.94-2.06-.94 2.06-2.06.94zm-11 1L8.5 8.5l.94-2.06 2.06-.94-2.06-.94L8.5 2.5l-.94 2.06-2.06.94zm10 10l.94 2.06.94-2.06 2.06-.94-2.06-.94-.94-2.06-.94 2.06-2.06.94z\"/><path d=\"M17.41 7.96l-1.37-1.37c-.4-.4-.92-.59-1.43-.59-.52 0-1.04.2-1.43.59L10.3 9.45l-7.72 7.72c-.78.78-.78 2.05 0 2.83L4 21.41c.39.39.9.59 1.41.59.51 0 1.02-.2 1.41-.59l7.78-7.78 2.81-2.81c.8-.78.8-2.07 0-2.86zM5.41 20L4 18.59l7.72-7.72 1.47 1.35L5.41 20z\"/>\n",
              "  </svg>\n",
              "      </button>\n",
              "      \n",
              "  <style>\n",
              "    .colab-df-container {\n",
              "      display:flex;\n",
              "      flex-wrap:wrap;\n",
              "      gap: 12px;\n",
              "    }\n",
              "\n",
              "    .colab-df-convert {\n",
              "      background-color: #E8F0FE;\n",
              "      border: none;\n",
              "      border-radius: 50%;\n",
              "      cursor: pointer;\n",
              "      display: none;\n",
              "      fill: #1967D2;\n",
              "      height: 32px;\n",
              "      padding: 0 0 0 0;\n",
              "      width: 32px;\n",
              "    }\n",
              "\n",
              "    .colab-df-convert:hover {\n",
              "      background-color: #E2EBFA;\n",
              "      box-shadow: 0px 1px 2px rgba(60, 64, 67, 0.3), 0px 1px 3px 1px rgba(60, 64, 67, 0.15);\n",
              "      fill: #174EA6;\n",
              "    }\n",
              "\n",
              "    [theme=dark] .colab-df-convert {\n",
              "      background-color: #3B4455;\n",
              "      fill: #D2E3FC;\n",
              "    }\n",
              "\n",
              "    [theme=dark] .colab-df-convert:hover {\n",
              "      background-color: #434B5C;\n",
              "      box-shadow: 0px 1px 3px 1px rgba(0, 0, 0, 0.15);\n",
              "      filter: drop-shadow(0px 1px 2px rgba(0, 0, 0, 0.3));\n",
              "      fill: #FFFFFF;\n",
              "    }\n",
              "  </style>\n",
              "\n",
              "      <script>\n",
              "        const buttonEl =\n",
              "          document.querySelector('#df-9acef921-b24c-4630-84e7-2eaad7cc44b7 button.colab-df-convert');\n",
              "        buttonEl.style.display =\n",
              "          google.colab.kernel.accessAllowed ? 'block' : 'none';\n",
              "\n",
              "        async function convertToInteractive(key) {\n",
              "          const element = document.querySelector('#df-9acef921-b24c-4630-84e7-2eaad7cc44b7');\n",
              "          const dataTable =\n",
              "            await google.colab.kernel.invokeFunction('convertToInteractive',\n",
              "                                                     [key], {});\n",
              "          if (!dataTable) return;\n",
              "\n",
              "          const docLinkHtml = 'Like what you see? Visit the ' +\n",
              "            '<a target=\"_blank\" href=https://colab.research.google.com/notebooks/data_table.ipynb>data table notebook</a>'\n",
              "            + ' to learn more about interactive tables.';\n",
              "          element.innerHTML = '';\n",
              "          dataTable['output_type'] = 'display_data';\n",
              "          await google.colab.output.renderOutput(dataTable, element);\n",
              "          const docLink = document.createElement('div');\n",
              "          docLink.innerHTML = docLinkHtml;\n",
              "          element.appendChild(docLink);\n",
              "        }\n",
              "      </script>\n",
              "    </div>\n",
              "  </div>\n",
              "  "
            ]
          },
          "metadata": {},
          "execution_count": 124
        }
      ]
    },
    {
      "cell_type": "code",
      "source": [
        "df.drop(['Type of Travel', 'Customer Type', 'satisfaction', 'n_nulls', 'Class'], axis=1, inplace=True)"
      ],
      "metadata": {
        "id": "lwCYppbLNiPk"
      },
      "execution_count": 125,
      "outputs": []
    },
    {
      "cell_type": "markdown",
      "source": [
        "#### Корреляция признаков"
      ],
      "metadata": {
        "id": "yF-78fOUhhPL"
      }
    },
    {
      "cell_type": "code",
      "source": [
        "corr = df.corr(numeric_only=True)\n",
        "sns.heatmap(corr, cmap='summer')"
      ],
      "metadata": {
        "id": "FnMQk6lIhin_",
        "colab": {
          "base_uri": "https://localhost:8080/",
          "height": 676
        },
        "outputId": "0473ea35-d888-49b9-8406-c930e0b04618"
      },
      "execution_count": 126,
      "outputs": [
        {
          "output_type": "execute_result",
          "data": {
            "text/plain": [
              "<Axes: >"
            ]
          },
          "metadata": {},
          "execution_count": 126
        },
        {
          "output_type": "display_data",
          "data": {
            "text/plain": [
              "<Figure size 640x480 with 2 Axes>"
            ],
            "image/png": "[encoded data removed]"
          },
          "metadata": {}
        }
      ]
    },
    {
      "cell_type": "markdown",
      "source": [
        "На глаз можно заметить, что признаки, касающиеся оценок в анкете, коррелируют, карта светлее в районе их пересечения. Но в целом признаки датасета не так сильно скоррелированы между собой, а значит, не будут мешать строить модель"
      ],
      "metadata": {
        "id": "eL-9VeekPwap"
      }
    },
    {
      "cell_type": "markdown",
      "source": [
        "## Обучение модели"
      ],
      "metadata": {
        "id": "IbFUNVGlho2t"
      }
    },
    {
      "cell_type": "markdown",
      "source": [
        "### Формирование выборок"
      ],
      "metadata": {
        "id": "ISsQP7P4KjXo"
      }
    },
    {
      "cell_type": "markdown",
      "source": [
        "Разделим данные на выборки и выполним масштабирование"
      ],
      "metadata": {
        "id": "zxNWBvS2Rob5"
      }
    },
    {
      "cell_type": "code",
      "source": [
        "X, y = df.drop(['id', 'Satisfied'], axis=1), df['Satisfied']"
      ],
      "metadata": {
        "id": "fxeDul86R5hv"
      },
      "execution_count": 127,
      "outputs": []
    },
    {
      "cell_type": "code",
      "source": [
        "X_train, X_test, y_train, y_test = train_test_split(X, y, test_size=0.20, random_state=42)\n",
        "\n",
        "X_train.shape, X_test.shape"
      ],
      "metadata": {
        "colab": {
          "base_uri": "https://localhost:8080/"
        },
        "id": "WQCfETiQRr2h",
        "outputId": "4aae2161-e7c2-445b-cda7-ad4aa05847d0"
      },
      "execution_count": 128,
      "outputs": [
        {
          "output_type": "execute_result",
          "data": {
            "text/plain": [
              "((82720, 23), (20681, 23))"
            ]
          },
          "metadata": {},
          "execution_count": 128
        }
      ]
    },
    {
      "cell_type": "code",
      "source": [
        "ss = MinMaxScaler()\n",
        "ss.fit(X_train) # вычислить min, max по каждому столбцу\n",
        "\n",
        "X_train = pd.DataFrame(ss.transform(X_train), columns=X_train.columns)\n",
        "X_test = pd.DataFrame(ss.transform(X_test), columns=X_test.columns)\n",
        "\n",
        "X_train.head()"
      ],
      "metadata": {
        "id": "yg53mrrZhrJJ",
        "colab": {
          "base_uri": "https://localhost:8080/",
          "height": 332
        },
        "outputId": "bae540ee-97fb-415e-db9f-15aee18ee8fb"
      },
      "execution_count": 129,
      "outputs": [
        {
          "output_type": "execute_result",
          "data": {
            "text/plain": [
              "   Gender   Age  Flight Distance  Departure Delay in Minutes  \\\n",
              "0     0.0  0.32         0.270509                    0.076503   \n",
              "1     0.0  0.59         0.832108                    0.000000   \n",
              "2     0.0  0.29         0.167304                    0.000000   \n",
              "3     1.0  0.00         0.426933                    0.000000   \n",
              "4     1.0  0.57         0.491032                    0.000000   \n",
              "\n",
              "   Arrival Delay in Minutes  Inflight wifi service  \\\n",
              "0                  0.432432                    0.2   \n",
              "1                  0.000000                    0.4   \n",
              "2                  0.000000                    0.2   \n",
              "3                  0.000000                    0.6   \n",
              "4                  0.000000                    0.6   \n",
              "\n",
              "   Departure/Arrival time convenient  Ease of Online booking  Gate location  \\\n",
              "0                                0.2                     0.6            0.6   \n",
              "1                                0.4                     0.4            0.4   \n",
              "2                                1.0                     0.4            0.4   \n",
              "3                                0.6                     0.6            0.6   \n",
              "4                                0.2                     0.2            0.2   \n",
              "\n",
              "   Food and drink  ...  On-board service  Leg room service  Baggage handling  \\\n",
              "0             0.2  ...               0.8               0.2               0.6   \n",
              "1             0.6  ...               1.0               1.0               0.6   \n",
              "2             0.8  ...               1.0               1.0               0.8   \n",
              "3             0.2  ...               0.2               1.0               0.6   \n",
              "4             1.0  ...               0.6               0.6               0.6   \n",
              "\n",
              "   Checkin service  Inflight service  Cleanliness  Loyalty  Business  Eco  \\\n",
              "0              0.2               0.6          0.2      1.0       1.0  0.0   \n",
              "1              0.6               1.0          0.6      1.0       1.0  0.0   \n",
              "2              1.0               0.8          0.8      1.0       0.0  1.0   \n",
              "3              0.4               0.8          0.2      0.0       1.0  0.0   \n",
              "4              0.8               0.6          0.6      1.0       1.0  0.0   \n",
              "\n",
              "   Eco Plus  \n",
              "0       0.0  \n",
              "1       0.0  \n",
              "2       0.0  \n",
              "3       0.0  \n",
              "4       0.0  \n",
              "\n",
              "[5 rows x 23 columns]"
            ],
            "text/html": [
              "\n",
              "  <div id=\"df-e65d2923-416a-4660-8c06-439442be2c44\">\n",
              "    <div class=\"colab-df-container\">\n",
              "      <div>\n",
              "<style scoped>\n",
              "    .dataframe tbody tr th:only-of-type {\n",
              "        vertical-align: middle;\n",
              "    }\n",
              "\n",
              "    .dataframe tbody tr th {\n",
              "        vertical-align: top;\n",
              "    }\n",
              "\n",
              "    .dataframe thead th {\n",
              "        text-align: right;\n",
              "    }\n",
              "</style>\n",
              "<table border=\"1\" class=\"dataframe\">\n",
              "  <thead>\n",
              "    <tr style=\"text-align: right;\">\n",
              "      <th></th>\n",
              "      <th>Gender</th>\n",
              "      <th>Age</th>\n",
              "      <th>Flight Distance</th>\n",
              "      <th>Departure Delay in Minutes</th>\n",
              "      <th>Arrival Delay in Minutes</th>\n",
              "      <th>Inflight wifi service</th>\n",
              "      <th>Departure/Arrival time convenient</th>\n",
              "      <th>Ease of Online booking</th>\n",
              "      <th>Gate location</th>\n",
              "      <th>Food and drink</th>\n",
              "      <th>...</th>\n",
              "      <th>On-board service</th>\n",
              "      <th>Leg room service</th>\n",
              "      <th>Baggage handling</th>\n",
              "      <th>Checkin service</th>\n",
              "      <th>Inflight service</th>\n",
              "      <th>Cleanliness</th>\n",
              "      <th>Loyalty</th>\n",
              "      <th>Business</th>\n",
              "      <th>Eco</th>\n",
              "      <th>Eco Plus</th>\n",
              "    </tr>\n",
              "  </thead>\n",
              "  <tbody>\n",
              "    <tr>\n",
              "      <th>0</th>\n",
              "      <td>0.0</td>\n",
              "      <td>0.32</td>\n",
              "      <td>0.270509</td>\n",
              "      <td>0.076503</td>\n",
              "      <td>0.432432</td>\n",
              "      <td>0.2</td>\n",
              "      <td>0.2</td>\n",
              "      <td>0.6</td>\n",
              "      <td>0.6</td>\n",
              "      <td>0.2</td>\n",
              "      <td>...</td>\n",
              "      <td>0.8</td>\n",
              "      <td>0.2</td>\n",
              "      <td>0.6</td>\n",
              "      <td>0.2</td>\n",
              "      <td>0.6</td>\n",
              "      <td>0.2</td>\n",
              "      <td>1.0</td>\n",
              "      <td>1.0</td>\n",
              "      <td>0.0</td>\n",
              "      <td>0.0</td>\n",
              "    </tr>\n",
              "    <tr>\n",
              "      <th>1</th>\n",
              "      <td>0.0</td>\n",
              "      <td>0.59</td>\n",
              "      <td>0.832108</td>\n",
              "      <td>0.000000</td>\n",
              "      <td>0.000000</td>\n",
              "      <td>0.4</td>\n",
              "      <td>0.4</td>\n",
              "      <td>0.4</td>\n",
              "      <td>0.4</td>\n",
              "      <td>0.6</td>\n",
              "      <td>...</td>\n",
              "      <td>1.0</td>\n",
              "      <td>1.0</td>\n",
              "      <td>0.6</td>\n",
              "      <td>0.6</td>\n",
              "      <td>1.0</td>\n",
              "      <td>0.6</td>\n",
              "      <td>1.0</td>\n",
              "      <td>1.0</td>\n",
              "      <td>0.0</td>\n",
              "      <td>0.0</td>\n",
              "    </tr>\n",
              "    <tr>\n",
              "      <th>2</th>\n",
              "      <td>0.0</td>\n",
              "      <td>0.29</td>\n",
              "      <td>0.167304</td>\n",
              "      <td>0.000000</td>\n",
              "      <td>0.000000</td>\n",
              "      <td>0.2</td>\n",
              "      <td>1.0</td>\n",
              "      <td>0.4</td>\n",
              "      <td>0.4</td>\n",
              "      <td>0.8</td>\n",
              "      <td>...</td>\n",
              "      <td>1.0</td>\n",
              "      <td>1.0</td>\n",
              "      <td>0.8</td>\n",
              "      <td>1.0</td>\n",
              "      <td>0.8</td>\n",
              "      <td>0.8</td>\n",
              "      <td>1.0</td>\n",
              "      <td>0.0</td>\n",
              "      <td>1.0</td>\n",
              "      <td>0.0</td>\n",
              "    </tr>\n",
              "    <tr>\n",
              "      <th>3</th>\n",
              "      <td>1.0</td>\n",
              "      <td>0.00</td>\n",
              "      <td>0.426933</td>\n",
              "      <td>0.000000</td>\n",
              "      <td>0.000000</td>\n",
              "      <td>0.6</td>\n",
              "      <td>0.6</td>\n",
              "      <td>0.6</td>\n",
              "      <td>0.6</td>\n",
              "      <td>0.2</td>\n",
              "      <td>...</td>\n",
              "      <td>0.2</td>\n",
              "      <td>1.0</td>\n",
              "      <td>0.6</td>\n",
              "      <td>0.4</td>\n",
              "      <td>0.8</td>\n",
              "      <td>0.2</td>\n",
              "      <td>0.0</td>\n",
              "      <td>1.0</td>\n",
              "      <td>0.0</td>\n",
              "      <td>0.0</td>\n",
              "    </tr>\n",
              "    <tr>\n",
              "      <th>4</th>\n",
              "      <td>1.0</td>\n",
              "      <td>0.57</td>\n",
              "      <td>0.491032</td>\n",
              "      <td>0.000000</td>\n",
              "      <td>0.000000</td>\n",
              "      <td>0.6</td>\n",
              "      <td>0.2</td>\n",
              "      <td>0.2</td>\n",
              "      <td>0.2</td>\n",
              "      <td>1.0</td>\n",
              "      <td>...</td>\n",
              "      <td>0.6</td>\n",
              "      <td>0.6</td>\n",
              "      <td>0.6</td>\n",
              "      <td>0.8</td>\n",
              "      <td>0.6</td>\n",
              "      <td>0.6</td>\n",
              "      <td>1.0</td>\n",
              "      <td>1.0</td>\n",
              "      <td>0.0</td>\n",
              "      <td>0.0</td>\n",
              "    </tr>\n",
              "  </tbody>\n",
              "</table>\n",
              "<p>5 rows × 23 columns</p>\n",
              "</div>\n",
              "      <button class=\"colab-df-convert\" onclick=\"convertToInteractive('df-e65d2923-416a-4660-8c06-439442be2c44')\"\n",
              "              title=\"Convert this dataframe to an interactive table.\"\n",
              "              style=\"display:none;\">\n",
              "        \n",
              "  <svg xmlns=\"http://www.w3.org/2000/svg\" height=\"24px\"viewBox=\"0 0 24 24\"\n",
              "       width=\"24px\">\n",
              "    <path d=\"M0 0h24v24H0V0z\" fill=\"none\"/>\n",
              "    <path d=\"M18.56 5.44l.94 2.06.94-2.06 2.06-.94-2.06-.94-.94-2.06-.94 2.06-2.06.94zm-11 1L8.5 8.5l.94-2.06 2.06-.94-2.06-.94L8.5 2.5l-.94 2.06-2.06.94zm10 10l.94 2.06.94-2.06 2.06-.94-2.06-.94-.94-2.06-.94 2.06-2.06.94z\"/><path d=\"M17.41 7.96l-1.37-1.37c-.4-.4-.92-.59-1.43-.59-.52 0-1.04.2-1.43.59L10.3 9.45l-7.72 7.72c-.78.78-.78 2.05 0 2.83L4 21.41c.39.39.9.59 1.41.59.51 0 1.02-.2 1.41-.59l7.78-7.78 2.81-2.81c.8-.78.8-2.07 0-2.86zM5.41 20L4 18.59l7.72-7.72 1.47 1.35L5.41 20z\"/>\n",
              "  </svg>\n",
              "      </button>\n",
              "      \n",
              "  <style>\n",
              "    .colab-df-container {\n",
              "      display:flex;\n",
              "      flex-wrap:wrap;\n",
              "      gap: 12px;\n",
              "    }\n",
              "\n",
              "    .colab-df-convert {\n",
              "      background-color: #E8F0FE;\n",
              "      border: none;\n",
              "      border-radius: 50%;\n",
              "      cursor: pointer;\n",
              "      display: none;\n",
              "      fill: #1967D2;\n",
              "      height: 32px;\n",
              "      padding: 0 0 0 0;\n",
              "      width: 32px;\n",
              "    }\n",
              "\n",
              "    .colab-df-convert:hover {\n",
              "      background-color: #E2EBFA;\n",
              "      box-shadow: 0px 1px 2px rgba(60, 64, 67, 0.3), 0px 1px 3px 1px rgba(60, 64, 67, 0.15);\n",
              "      fill: #174EA6;\n",
              "    }\n",
              "\n",
              "    [theme=dark] .colab-df-convert {\n",
              "      background-color: #3B4455;\n",
              "      fill: #D2E3FC;\n",
              "    }\n",
              "\n",
              "    [theme=dark] .colab-df-convert:hover {\n",
              "      background-color: #434B5C;\n",
              "      box-shadow: 0px 1px 3px 1px rgba(0, 0, 0, 0.15);\n",
              "      filter: drop-shadow(0px 1px 2px rgba(0, 0, 0, 0.3));\n",
              "      fill: #FFFFFF;\n",
              "    }\n",
              "  </style>\n",
              "\n",
              "      <script>\n",
              "        const buttonEl =\n",
              "          document.querySelector('#df-e65d2923-416a-4660-8c06-439442be2c44 button.colab-df-convert');\n",
              "        buttonEl.style.display =\n",
              "          google.colab.kernel.accessAllowed ? 'block' : 'none';\n",
              "\n",
              "        async function convertToInteractive(key) {\n",
              "          const element = document.querySelector('#df-e65d2923-416a-4660-8c06-439442be2c44');\n",
              "          const dataTable =\n",
              "            await google.colab.kernel.invokeFunction('convertToInteractive',\n",
              "                                                     [key], {});\n",
              "          if (!dataTable) return;\n",
              "\n",
              "          const docLinkHtml = 'Like what you see? Visit the ' +\n",
              "            '<a target=\"_blank\" href=https://colab.research.google.com/notebooks/data_table.ipynb>data table notebook</a>'\n",
              "            + ' to learn more about interactive tables.';\n",
              "          element.innerHTML = '';\n",
              "          dataTable['output_type'] = 'display_data';\n",
              "          await google.colab.output.renderOutput(dataTable, element);\n",
              "          const docLink = document.createElement('div');\n",
              "          docLink.innerHTML = docLinkHtml;\n",
              "          element.appendChild(docLink);\n",
              "        }\n",
              "      </script>\n",
              "    </div>\n",
              "  </div>\n",
              "  "
            ]
          },
          "metadata": {},
          "execution_count": 129
        }
      ]
    },
    {
      "cell_type": "markdown",
      "source": [
        "### Обучение"
      ],
      "metadata": {
        "id": "YnJsnXaoSykw"
      }
    },
    {
      "cell_type": "code",
      "source": [
        "model = LogisticRegression(max_iter=500)\n",
        "\n",
        "model.fit(X_train, y_train)\n",
        "\n",
        "preds = model.predict(X_test)"
      ],
      "metadata": {
        "id": "vLXSN27BS1oz"
      },
      "execution_count": 130,
      "outputs": []
    },
    {
      "cell_type": "markdown",
      "source": [
        "### Оценка"
      ],
      "metadata": {
        "id": "4qMHqkOBTSOM"
      }
    },
    {
      "cell_type": "code",
      "source": [
        "print(f'Accuracy: {round(accuracy_score(y_test, preds), 3)}')\n",
        "print(f'Precision: {round(precision_score(y_test, preds), 3)}')\n",
        "print(f'Recall: {round(recall_score(y_test, preds), 3)}')"
      ],
      "metadata": {
        "id": "ahXlOgIpT0iN",
        "colab": {
          "base_uri": "https://localhost:8080/"
        },
        "outputId": "a842e064-e94f-4e66-bf2b-42584ed2f087"
      },
      "execution_count": 131,
      "outputs": [
        {
          "output_type": "stream",
          "name": "stdout",
          "text": [
            "Accuracy: 0.874\n",
            "Precision: 0.868\n",
            "Recall: 0.835\n"
          ]
        }
      ]
    },
    {
      "cell_type": "code",
      "source": [
        "ax = sns.heatmap(confusion_matrix(y_test, preds), annot=True, fmt='d')\n",
        "\n",
        "ax.set_xlabel('Predicted')\n",
        "ax.xaxis.set_ticklabels(['Neutral or dissatisfied', 'Satisfied'])\n",
        "\n",
        "ax.set_ylabel('True')\n",
        "ax.yaxis.set_ticklabels(['Neutral or dissatisfied', 'Satisfied'])\n",
        "\n",
        "plt.show()"
      ],
      "metadata": {
        "id": "mbKAVQp0T4P9",
        "colab": {
          "base_uri": "https://localhost:8080/",
          "height": 449
        },
        "outputId": "ce10955b-8e68-4d46-daac-da5f380582e4"
      },
      "execution_count": 132,
      "outputs": [
        {
          "output_type": "display_data",
          "data": {
            "text/plain": [
              "<Figure size 640x480 with 2 Axes>"
            ],
            "image/png": "[encoded data removed]"
          },
          "metadata": {}
        }
      ]
    },
    {
      "cell_type": "markdown",
      "source": [
        "В описании датасета не указано, для чего конкретно могут использоваться эти данные. Однако, можно обратить внимание на целевую переменную. Нейтральные и недовольные клиенты объединены в общую категорию, а довольные выделены отдельно.\n",
        "\n",
        "Опираясь на это, я могу предположить два бизнесовых обоснования для использования модели:\n",
        "\n",
        "1) у авиакомпании очень строгие менеджеры, и даже нейтральный клиент их не устраивает, они хотят выделять даже клиентов с нейтральным опытом на основе их данных и постполётных опросников и брать их в работу, как-то повышать их лояльность. В этом случае будет важна полнота (найти как можно больше недовольных и нейтральных клиентов, чтобы повысить их лояльность и не потерять), но тогда классы нужно перекодировать обратным образом (1 - расстроенный или нейтральный, именно их мы и хотим выделить максимально полно)\n",
        "\n",
        "2) менеджеры хотят понять, какие детали полёта сильнее всего снижают удовлетворённость, чтобы фиксить опыт не отдельного человека целиком, а исправлять отдельные слабые места в сервисе. В таком случае сама предказательная способность модели не очень важна, важны её веса, которые отражают влияние признаков на впечатление клиентов. В этом случае нет предпочтений точности или полноте, важна общая хорошая объяснительная способность модели"
      ],
      "metadata": {
        "id": "oaEuXMNgyaMm"
      }
    },
    {
      "cell_type": "markdown",
      "source": [
        "### Интерпретация\n",
        "Вторая ситуация мне кажется интереснее, и я буду придерживаться такой легеды\n",
        "\n",
        "Извлечём веса из модели и отсортируем по значимости (не учитывая знак).Помним, что признаки перед обучением были нормированы, а значит, модель можно интерпретировать"
      ],
      "metadata": {
        "id": "N6NQaeyMhsTp"
      }
    },
    {
      "cell_type": "code",
      "source": [
        "importances = pd.DataFrame({'weights': model.coef_[0], 'features': X_train.columns}).sort_values(by='weights')\n",
        "importances.sort_values(by='weights', key=abs, ascending=False)"
      ],
      "metadata": {
        "id": "9jaU0-ajht6O",
        "colab": {
          "base_uri": "https://localhost:8080/",
          "height": 771
        },
        "outputId": "91fe14af-20e0-4629-98b4-5be7528ebea1"
      },
      "execution_count": 65,
      "outputs": [
        {
          "output_type": "execute_result",
          "data": {
            "text/plain": [
              "     weights                           features\n",
              "3  -4.479310         Departure Delay in Minutes\n",
              "10  3.048831                    Online boarding\n",
              "20  2.700611                           Business\n",
              "4  -2.590044           Arrival Delay in Minutes\n",
              "19  2.023835                            Loyalty\n",
              "5   1.947920              Inflight wifi service\n",
              "16  1.597672                    Checkin service\n",
              "13  1.522757                   On-board service\n",
              "14  1.213510                   Leg room service\n",
              "18  1.108847                        Cleanliness\n",
              "22 -0.863130                           Eco Plus\n",
              "1  -0.853437                                Age\n",
              "21 -0.743226                                Eco\n",
              "7  -0.728574             Ease of Online booking\n",
              "15  0.685363                   Baggage handling\n",
              "6  -0.608722  Departure/Arrival time convenient\n",
              "17  0.578064                   Inflight service\n",
              "12  0.368175             Inflight entertainment\n",
              "11  0.329764                       Seat comfort\n",
              "2  -0.153745                    Flight Distance\n",
              "8   0.143969                      Gate location\n",
              "9  -0.142186                     Food and drink\n",
              "0  -0.031846                             Gender"
            ],
            "text/html": [
              "\n",
              "  <div id=\"df-8aaa9c6b-51ee-44bc-a535-a088eb933828\">\n",
              "    <div class=\"colab-df-container\">\n",
              "      <div>\n",
              "<style scoped>\n",
              "    .dataframe tbody tr th:only-of-type {\n",
              "        vertical-align: middle;\n",
              "    }\n",
              "\n",
              "    .dataframe tbody tr th {\n",
              "        vertical-align: top;\n",
              "    }\n",
              "\n",
              "    .dataframe thead th {\n",
              "        text-align: right;\n",
              "    }\n",
              "</style>\n",
              "<table border=\"1\" class=\"dataframe\">\n",
              "  <thead>\n",
              "    <tr style=\"text-align: right;\">\n",
              "      <th></th>\n",
              "      <th>weights</th>\n",
              "      <th>features</th>\n",
              "    </tr>\n",
              "  </thead>\n",
              "  <tbody>\n",
              "    <tr>\n",
              "      <th>3</th>\n",
              "      <td>-4.479310</td>\n",
              "      <td>Departure Delay in Minutes</td>\n",
              "    </tr>\n",
              "    <tr>\n",
              "      <th>10</th>\n",
              "      <td>3.048831</td>\n",
              "      <td>Online boarding</td>\n",
              "    </tr>\n",
              "    <tr>\n",
              "      <th>20</th>\n",
              "      <td>2.700611</td>\n",
              "      <td>Business</td>\n",
              "    </tr>\n",
              "    <tr>\n",
              "      <th>4</th>\n",
              "      <td>-2.590044</td>\n",
              "      <td>Arrival Delay in Minutes</td>\n",
              "    </tr>\n",
              "    <tr>\n",
              "      <th>19</th>\n",
              "      <td>2.023835</td>\n",
              "      <td>Loyalty</td>\n",
              "    </tr>\n",
              "    <tr>\n",
              "      <th>5</th>\n",
              "      <td>1.947920</td>\n",
              "      <td>Inflight wifi service</td>\n",
              "    </tr>\n",
              "    <tr>\n",
              "      <th>16</th>\n",
              "      <td>1.597672</td>\n",
              "      <td>Checkin service</td>\n",
              "    </tr>\n",
              "    <tr>\n",
              "      <th>13</th>\n",
              "      <td>1.522757</td>\n",
              "      <td>On-board service</td>\n",
              "    </tr>\n",
              "    <tr>\n",
              "      <th>14</th>\n",
              "      <td>1.213510</td>\n",
              "      <td>Leg room service</td>\n",
              "    </tr>\n",
              "    <tr>\n",
              "      <th>18</th>\n",
              "      <td>1.108847</td>\n",
              "      <td>Cleanliness</td>\n",
              "    </tr>\n",
              "    <tr>\n",
              "      <th>22</th>\n",
              "      <td>-0.863130</td>\n",
              "      <td>Eco Plus</td>\n",
              "    </tr>\n",
              "    <tr>\n",
              "      <th>1</th>\n",
              "      <td>-0.853437</td>\n",
              "      <td>Age</td>\n",
              "    </tr>\n",
              "    <tr>\n",
              "      <th>21</th>\n",
              "      <td>-0.743226</td>\n",
              "      <td>Eco</td>\n",
              "    </tr>\n",
              "    <tr>\n",
              "      <th>7</th>\n",
              "      <td>-0.728574</td>\n",
              "      <td>Ease of Online booking</td>\n",
              "    </tr>\n",
              "    <tr>\n",
              "      <th>15</th>\n",
              "      <td>0.685363</td>\n",
              "      <td>Baggage handling</td>\n",
              "    </tr>\n",
              "    <tr>\n",
              "      <th>6</th>\n",
              "      <td>-0.608722</td>\n",
              "      <td>Departure/Arrival time convenient</td>\n",
              "    </tr>\n",
              "    <tr>\n",
              "      <th>17</th>\n",
              "      <td>0.578064</td>\n",
              "      <td>Inflight service</td>\n",
              "    </tr>\n",
              "    <tr>\n",
              "      <th>12</th>\n",
              "      <td>0.368175</td>\n",
              "      <td>Inflight entertainment</td>\n",
              "    </tr>\n",
              "    <tr>\n",
              "      <th>11</th>\n",
              "      <td>0.329764</td>\n",
              "      <td>Seat comfort</td>\n",
              "    </tr>\n",
              "    <tr>\n",
              "      <th>2</th>\n",
              "      <td>-0.153745</td>\n",
              "      <td>Flight Distance</td>\n",
              "    </tr>\n",
              "    <tr>\n",
              "      <th>8</th>\n",
              "      <td>0.143969</td>\n",
              "      <td>Gate location</td>\n",
              "    </tr>\n",
              "    <tr>\n",
              "      <th>9</th>\n",
              "      <td>-0.142186</td>\n",
              "      <td>Food and drink</td>\n",
              "    </tr>\n",
              "    <tr>\n",
              "      <th>0</th>\n",
              "      <td>-0.031846</td>\n",
              "      <td>Gender</td>\n",
              "    </tr>\n",
              "  </tbody>\n",
              "</table>\n",
              "</div>\n",
              "      <button class=\"colab-df-convert\" onclick=\"convertToInteractive('df-8aaa9c6b-51ee-44bc-a535-a088eb933828')\"\n",
              "              title=\"Convert this dataframe to an interactive table.\"\n",
              "              style=\"display:none;\">\n",
              "        \n",
              "  <svg xmlns=\"http://www.w3.org/2000/svg\" height=\"24px\"viewBox=\"0 0 24 24\"\n",
              "       width=\"24px\">\n",
              "    <path d=\"M0 0h24v24H0V0z\" fill=\"none\"/>\n",
              "    <path d=\"M18.56 5.44l.94 2.06.94-2.06 2.06-.94-2.06-.94-.94-2.06-.94 2.06-2.06.94zm-11 1L8.5 8.5l.94-2.06 2.06-.94-2.06-.94L8.5 2.5l-.94 2.06-2.06.94zm10 10l.94 2.06.94-2.06 2.06-.94-2.06-.94-.94-2.06-.94 2.06-2.06.94z\"/><path d=\"M17.41 7.96l-1.37-1.37c-.4-.4-.92-.59-1.43-.59-.52 0-1.04.2-1.43.59L10.3 9.45l-7.72 7.72c-.78.78-.78 2.05 0 2.83L4 21.41c.39.39.9.59 1.41.59.51 0 1.02-.2 1.41-.59l7.78-7.78 2.81-2.81c.8-.78.8-2.07 0-2.86zM5.41 20L4 18.59l7.72-7.72 1.47 1.35L5.41 20z\"/>\n",
              "  </svg>\n",
              "      </button>\n",
              "      \n",
              "  <style>\n",
              "    .colab-df-container {\n",
              "      display:flex;\n",
              "      flex-wrap:wrap;\n",
              "      gap: 12px;\n",
              "    }\n",
              "\n",
              "    .colab-df-convert {\n",
              "      background-color: #E8F0FE;\n",
              "      border: none;\n",
              "      border-radius: 50%;\n",
              "      cursor: pointer;\n",
              "      display: none;\n",
              "      fill: #1967D2;\n",
              "      height: 32px;\n",
              "      padding: 0 0 0 0;\n",
              "      width: 32px;\n",
              "    }\n",
              "\n",
              "    .colab-df-convert:hover {\n",
              "      background-color: #E2EBFA;\n",
              "      box-shadow: 0px 1px 2px rgba(60, 64, 67, 0.3), 0px 1px 3px 1px rgba(60, 64, 67, 0.15);\n",
              "      fill: #174EA6;\n",
              "    }\n",
              "\n",
              "    [theme=dark] .colab-df-convert {\n",
              "      background-color: #3B4455;\n",
              "      fill: #D2E3FC;\n",
              "    }\n",
              "\n",
              "    [theme=dark] .colab-df-convert:hover {\n",
              "      background-color: #434B5C;\n",
              "      box-shadow: 0px 1px 3px 1px rgba(0, 0, 0, 0.15);\n",
              "      filter: drop-shadow(0px 1px 2px rgba(0, 0, 0, 0.3));\n",
              "      fill: #FFFFFF;\n",
              "    }\n",
              "  </style>\n",
              "\n",
              "      <script>\n",
              "        const buttonEl =\n",
              "          document.querySelector('#df-8aaa9c6b-51ee-44bc-a535-a088eb933828 button.colab-df-convert');\n",
              "        buttonEl.style.display =\n",
              "          google.colab.kernel.accessAllowed ? 'block' : 'none';\n",
              "\n",
              "        async function convertToInteractive(key) {\n",
              "          const element = document.querySelector('#df-8aaa9c6b-51ee-44bc-a535-a088eb933828');\n",
              "          const dataTable =\n",
              "            await google.colab.kernel.invokeFunction('convertToInteractive',\n",
              "                                                     [key], {});\n",
              "          if (!dataTable) return;\n",
              "\n",
              "          const docLinkHtml = 'Like what you see? Visit the ' +\n",
              "            '<a target=\"_blank\" href=https://colab.research.google.com/notebooks/data_table.ipynb>data table notebook</a>'\n",
              "            + ' to learn more about interactive tables.';\n",
              "          element.innerHTML = '';\n",
              "          dataTable['output_type'] = 'display_data';\n",
              "          await google.colab.output.renderOutput(dataTable, element);\n",
              "          const docLink = document.createElement('div');\n",
              "          docLink.innerHTML = docLinkHtml;\n",
              "          element.appendChild(docLink);\n",
              "        }\n",
              "      </script>\n",
              "    </div>\n",
              "  </div>\n",
              "  "
            ]
          },
          "metadata": {},
          "execution_count": 65
        }
      ]
    },
    {
      "cell_type": "markdown",
      "source": [
        "Если бы менеджер попросил список из 10 самых важных пунктов для удовлетворённости клиента, мы бы передали следующие:\n",
        "\n",
        "*задержка рейса, оценка онлайн посадки, полёт по работе, задержка прибытия, лояльность клиента (что бы это ни значило), оценка вайфая на борту, регистрации, места для ног и чистоты на борту*\n",
        "\n",
        "Шесть из десяти самых важных признаков - оценки из постполётоного опросника. Ожидаемо, что они позитивно связаны с удовлетворённостью. Лояльные клиенты и клиенты, летевшие по работе (а не по личным делам), будут тоже более довольны опытом. А вот задержка вылета и прилёта плохо сказывается на общем впечатлении, причём задержка вылета влияет хуже, чем задержка прилёта.\n",
        "\n",
        "Меньше всего на удовлетворённость полётом влияет пол пассажира, оценки питания, и расположения гейта, а также расстояние полёта"
      ],
      "metadata": {
        "id": "YkD_EFRRTvYg"
      }
    },
    {
      "cell_type": "code",
      "source": [],
      "metadata": {
        "id": "Z-rZe_g-TpSY"
      },
      "execution_count": null,
      "outputs": []
    }
  ]
}